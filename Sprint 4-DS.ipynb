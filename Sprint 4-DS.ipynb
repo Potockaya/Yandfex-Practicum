{
 "cells": [
  {
   "cell_type": "markdown",
   "id": "1be9a82a",
   "metadata": {},
   "source": [
    "<div style=\"border:solid green 2px; padding: 20px\">\n",
    "\n",
    "<b>Привет, Марина!</b>\n",
    "\n",
    "Меня зовут Алина Соловьева и я буду проверять твою работу. Попробую помочь сделать тебе её еще лучше! В Практикуме принято общение на ты, но если это дискомфортно, то сообщи об этом)\n",
    "\n",
    "Ниже ты найдешь мои комментарии - пожалуйста, не перемещай, не изменяй и не удаляй их. Я буду использовать цветовую разметку:\n",
    "\n",
    "<div class=\"alert alert-danger\">\n",
    "<b>Комментарий ревьюера:</b>☁️Так выделены самые важные замечания. Без их отработки проект не будет принят. </div>\n",
    "\n",
    "<div class=\"alert alert-warning\">\n",
    "<b>Комментарий ревьюера:</b>⛅️ Так выделены небольшие замечания.Такие замечания в проекте допустимы, это пространство для улучшений в будущем.\n",
    "</div>\n",
    "\n",
    "<div class=\"alert alert-success\">\n",
    "<b>Комментарий ревьюера:</b>☀️Так я выделяю успешные идеи.</div>\n",
    "\n",
    "Давай работать над проектом в диалоге: если ты что-то меняешь в проекте или отвечаешь на мои комменатри — пиши об этом. Мне будет легче отследить изменения, если ты выделишь свои комментарии:\n",
    "\n",
    "<div class=\"alert alert-info\"> <b>Комментарий студента:</b> Например, вот так.</div>    \n",
    "\n",
    "Всё это поможет выполнить повторную проверку твоего проекта оперативнее. \n",
    "    \n",
    "\n"
   ]
  },
  {
   "cell_type": "markdown",
   "id": "64040e2e",
   "metadata": {
    "deletable": false,
    "editable": false,
    "id": "c81daeeb"
   },
   "source": [
    "# Исследование надежности заемщиков\n"
   ]
  },
  {
   "cell_type": "markdown",
   "id": "c248fd42",
   "metadata": {
    "deletable": false,
    "editable": false,
    "id": "827c20bf"
   },
   "source": [
    "Во второй части проекта вы выполните шаги 3 и 4. Их вручную проверит ревьюер.\n",
    "Чтобы вам не пришлось писать код заново для шагов 1 и 2, мы добавили авторские решения в ячейки с кодом. \n",
    "\n"
   ]
  },
  {
   "cell_type": "markdown",
   "id": "c98b405e",
   "metadata": {
    "deletable": false,
    "editable": false,
    "id": "744d7639"
   },
   "source": [
    "## Откройте таблицу и изучите общую информацию о данных"
   ]
  },
  {
   "cell_type": "markdown",
   "id": "15daf315",
   "metadata": {
    "deletable": false,
    "editable": false,
    "id": "e7a14c31"
   },
   "source": [
    "**Задание 1. Импортируйте библиотеку pandas. Считайте данные из csv-файла в датафрейм и сохраните в переменную `data`. Путь к файлу:**\n",
    "\n",
    "`/datasets/data.csv`"
   ]
  },
  {
   "cell_type": "code",
   "execution_count": 1,
   "id": "de710fb5",
   "metadata": {
    "deletable": false,
    "id": "7bcf75c9"
   },
   "outputs": [],
   "source": [
    "import pandas as pd\n",
    "\n",
    "try:\n",
    "    data = pd.read_csv('/datasets/data.csv')\n",
    "except:\n",
    "    data = pd.read_csv('https://code.s3.yandex.net/datasets/data.csv')"
   ]
  },
  {
   "cell_type": "markdown",
   "id": "c57b938b",
   "metadata": {
    "deletable": false,
    "editable": false,
    "id": "b8038fe3"
   },
   "source": [
    "**Задание 2. Выведите первые 20 строчек датафрейма `data` на экран.**"
   ]
  },
  {
   "cell_type": "code",
   "execution_count": 2,
   "id": "326b323a",
   "metadata": {
    "deletable": false,
    "id": "2a7cab99",
    "outputId": "1a8f3ef2-d323-4ec2-ddf7-89670b5944c4"
   },
   "outputs": [
    {
     "data": {
      "text/html": [
       "<div>\n",
       "<style scoped>\n",
       "    .dataframe tbody tr th:only-of-type {\n",
       "        vertical-align: middle;\n",
       "    }\n",
       "\n",
       "    .dataframe tbody tr th {\n",
       "        vertical-align: top;\n",
       "    }\n",
       "\n",
       "    .dataframe thead th {\n",
       "        text-align: right;\n",
       "    }\n",
       "</style>\n",
       "<table border=\"1\" class=\"dataframe\">\n",
       "  <thead>\n",
       "    <tr style=\"text-align: right;\">\n",
       "      <th></th>\n",
       "      <th>children</th>\n",
       "      <th>days_employed</th>\n",
       "      <th>dob_years</th>\n",
       "      <th>education</th>\n",
       "      <th>education_id</th>\n",
       "      <th>family_status</th>\n",
       "      <th>family_status_id</th>\n",
       "      <th>gender</th>\n",
       "      <th>income_type</th>\n",
       "      <th>debt</th>\n",
       "      <th>total_income</th>\n",
       "      <th>purpose</th>\n",
       "    </tr>\n",
       "  </thead>\n",
       "  <tbody>\n",
       "    <tr>\n",
       "      <th>0</th>\n",
       "      <td>1</td>\n",
       "      <td>-8437.673028</td>\n",
       "      <td>42</td>\n",
       "      <td>высшее</td>\n",
       "      <td>0</td>\n",
       "      <td>женат / замужем</td>\n",
       "      <td>0</td>\n",
       "      <td>F</td>\n",
       "      <td>сотрудник</td>\n",
       "      <td>0</td>\n",
       "      <td>253875.639453</td>\n",
       "      <td>покупка жилья</td>\n",
       "    </tr>\n",
       "    <tr>\n",
       "      <th>1</th>\n",
       "      <td>1</td>\n",
       "      <td>-4024.803754</td>\n",
       "      <td>36</td>\n",
       "      <td>среднее</td>\n",
       "      <td>1</td>\n",
       "      <td>женат / замужем</td>\n",
       "      <td>0</td>\n",
       "      <td>F</td>\n",
       "      <td>сотрудник</td>\n",
       "      <td>0</td>\n",
       "      <td>112080.014102</td>\n",
       "      <td>приобретение автомобиля</td>\n",
       "    </tr>\n",
       "    <tr>\n",
       "      <th>2</th>\n",
       "      <td>0</td>\n",
       "      <td>-5623.422610</td>\n",
       "      <td>33</td>\n",
       "      <td>Среднее</td>\n",
       "      <td>1</td>\n",
       "      <td>женат / замужем</td>\n",
       "      <td>0</td>\n",
       "      <td>M</td>\n",
       "      <td>сотрудник</td>\n",
       "      <td>0</td>\n",
       "      <td>145885.952297</td>\n",
       "      <td>покупка жилья</td>\n",
       "    </tr>\n",
       "    <tr>\n",
       "      <th>3</th>\n",
       "      <td>3</td>\n",
       "      <td>-4124.747207</td>\n",
       "      <td>32</td>\n",
       "      <td>среднее</td>\n",
       "      <td>1</td>\n",
       "      <td>женат / замужем</td>\n",
       "      <td>0</td>\n",
       "      <td>M</td>\n",
       "      <td>сотрудник</td>\n",
       "      <td>0</td>\n",
       "      <td>267628.550329</td>\n",
       "      <td>дополнительное образование</td>\n",
       "    </tr>\n",
       "    <tr>\n",
       "      <th>4</th>\n",
       "      <td>0</td>\n",
       "      <td>340266.072047</td>\n",
       "      <td>53</td>\n",
       "      <td>среднее</td>\n",
       "      <td>1</td>\n",
       "      <td>гражданский брак</td>\n",
       "      <td>1</td>\n",
       "      <td>F</td>\n",
       "      <td>пенсионер</td>\n",
       "      <td>0</td>\n",
       "      <td>158616.077870</td>\n",
       "      <td>сыграть свадьбу</td>\n",
       "    </tr>\n",
       "    <tr>\n",
       "      <th>5</th>\n",
       "      <td>0</td>\n",
       "      <td>-926.185831</td>\n",
       "      <td>27</td>\n",
       "      <td>высшее</td>\n",
       "      <td>0</td>\n",
       "      <td>гражданский брак</td>\n",
       "      <td>1</td>\n",
       "      <td>M</td>\n",
       "      <td>компаньон</td>\n",
       "      <td>0</td>\n",
       "      <td>255763.565419</td>\n",
       "      <td>покупка жилья</td>\n",
       "    </tr>\n",
       "    <tr>\n",
       "      <th>6</th>\n",
       "      <td>0</td>\n",
       "      <td>-2879.202052</td>\n",
       "      <td>43</td>\n",
       "      <td>высшее</td>\n",
       "      <td>0</td>\n",
       "      <td>женат / замужем</td>\n",
       "      <td>0</td>\n",
       "      <td>F</td>\n",
       "      <td>компаньон</td>\n",
       "      <td>0</td>\n",
       "      <td>240525.971920</td>\n",
       "      <td>операции с жильем</td>\n",
       "    </tr>\n",
       "    <tr>\n",
       "      <th>7</th>\n",
       "      <td>0</td>\n",
       "      <td>-152.779569</td>\n",
       "      <td>50</td>\n",
       "      <td>СРЕДНЕЕ</td>\n",
       "      <td>1</td>\n",
       "      <td>женат / замужем</td>\n",
       "      <td>0</td>\n",
       "      <td>M</td>\n",
       "      <td>сотрудник</td>\n",
       "      <td>0</td>\n",
       "      <td>135823.934197</td>\n",
       "      <td>образование</td>\n",
       "    </tr>\n",
       "    <tr>\n",
       "      <th>8</th>\n",
       "      <td>2</td>\n",
       "      <td>-6929.865299</td>\n",
       "      <td>35</td>\n",
       "      <td>ВЫСШЕЕ</td>\n",
       "      <td>0</td>\n",
       "      <td>гражданский брак</td>\n",
       "      <td>1</td>\n",
       "      <td>F</td>\n",
       "      <td>сотрудник</td>\n",
       "      <td>0</td>\n",
       "      <td>95856.832424</td>\n",
       "      <td>на проведение свадьбы</td>\n",
       "    </tr>\n",
       "    <tr>\n",
       "      <th>9</th>\n",
       "      <td>0</td>\n",
       "      <td>-2188.756445</td>\n",
       "      <td>41</td>\n",
       "      <td>среднее</td>\n",
       "      <td>1</td>\n",
       "      <td>женат / замужем</td>\n",
       "      <td>0</td>\n",
       "      <td>M</td>\n",
       "      <td>сотрудник</td>\n",
       "      <td>0</td>\n",
       "      <td>144425.938277</td>\n",
       "      <td>покупка жилья для семьи</td>\n",
       "    </tr>\n",
       "    <tr>\n",
       "      <th>10</th>\n",
       "      <td>2</td>\n",
       "      <td>-4171.483647</td>\n",
       "      <td>36</td>\n",
       "      <td>высшее</td>\n",
       "      <td>0</td>\n",
       "      <td>женат / замужем</td>\n",
       "      <td>0</td>\n",
       "      <td>M</td>\n",
       "      <td>компаньон</td>\n",
       "      <td>0</td>\n",
       "      <td>113943.491460</td>\n",
       "      <td>покупка недвижимости</td>\n",
       "    </tr>\n",
       "    <tr>\n",
       "      <th>11</th>\n",
       "      <td>0</td>\n",
       "      <td>-792.701887</td>\n",
       "      <td>40</td>\n",
       "      <td>среднее</td>\n",
       "      <td>1</td>\n",
       "      <td>женат / замужем</td>\n",
       "      <td>0</td>\n",
       "      <td>F</td>\n",
       "      <td>сотрудник</td>\n",
       "      <td>0</td>\n",
       "      <td>77069.234271</td>\n",
       "      <td>покупка коммерческой недвижимости</td>\n",
       "    </tr>\n",
       "    <tr>\n",
       "      <th>12</th>\n",
       "      <td>0</td>\n",
       "      <td>NaN</td>\n",
       "      <td>65</td>\n",
       "      <td>среднее</td>\n",
       "      <td>1</td>\n",
       "      <td>гражданский брак</td>\n",
       "      <td>1</td>\n",
       "      <td>M</td>\n",
       "      <td>пенсионер</td>\n",
       "      <td>0</td>\n",
       "      <td>NaN</td>\n",
       "      <td>сыграть свадьбу</td>\n",
       "    </tr>\n",
       "    <tr>\n",
       "      <th>13</th>\n",
       "      <td>0</td>\n",
       "      <td>-1846.641941</td>\n",
       "      <td>54</td>\n",
       "      <td>неоконченное высшее</td>\n",
       "      <td>2</td>\n",
       "      <td>женат / замужем</td>\n",
       "      <td>0</td>\n",
       "      <td>F</td>\n",
       "      <td>сотрудник</td>\n",
       "      <td>0</td>\n",
       "      <td>130458.228857</td>\n",
       "      <td>приобретение автомобиля</td>\n",
       "    </tr>\n",
       "    <tr>\n",
       "      <th>14</th>\n",
       "      <td>0</td>\n",
       "      <td>-1844.956182</td>\n",
       "      <td>56</td>\n",
       "      <td>высшее</td>\n",
       "      <td>0</td>\n",
       "      <td>гражданский брак</td>\n",
       "      <td>1</td>\n",
       "      <td>F</td>\n",
       "      <td>компаньон</td>\n",
       "      <td>1</td>\n",
       "      <td>165127.911772</td>\n",
       "      <td>покупка жилой недвижимости</td>\n",
       "    </tr>\n",
       "    <tr>\n",
       "      <th>15</th>\n",
       "      <td>1</td>\n",
       "      <td>-972.364419</td>\n",
       "      <td>26</td>\n",
       "      <td>среднее</td>\n",
       "      <td>1</td>\n",
       "      <td>женат / замужем</td>\n",
       "      <td>0</td>\n",
       "      <td>F</td>\n",
       "      <td>сотрудник</td>\n",
       "      <td>0</td>\n",
       "      <td>116820.904450</td>\n",
       "      <td>строительство собственной недвижимости</td>\n",
       "    </tr>\n",
       "    <tr>\n",
       "      <th>16</th>\n",
       "      <td>0</td>\n",
       "      <td>-1719.934226</td>\n",
       "      <td>35</td>\n",
       "      <td>среднее</td>\n",
       "      <td>1</td>\n",
       "      <td>женат / замужем</td>\n",
       "      <td>0</td>\n",
       "      <td>F</td>\n",
       "      <td>сотрудник</td>\n",
       "      <td>0</td>\n",
       "      <td>289202.704229</td>\n",
       "      <td>недвижимость</td>\n",
       "    </tr>\n",
       "    <tr>\n",
       "      <th>17</th>\n",
       "      <td>0</td>\n",
       "      <td>-2369.999720</td>\n",
       "      <td>33</td>\n",
       "      <td>высшее</td>\n",
       "      <td>0</td>\n",
       "      <td>гражданский брак</td>\n",
       "      <td>1</td>\n",
       "      <td>M</td>\n",
       "      <td>сотрудник</td>\n",
       "      <td>0</td>\n",
       "      <td>90410.586745</td>\n",
       "      <td>строительство недвижимости</td>\n",
       "    </tr>\n",
       "    <tr>\n",
       "      <th>18</th>\n",
       "      <td>0</td>\n",
       "      <td>400281.136913</td>\n",
       "      <td>53</td>\n",
       "      <td>среднее</td>\n",
       "      <td>1</td>\n",
       "      <td>вдовец / вдова</td>\n",
       "      <td>2</td>\n",
       "      <td>F</td>\n",
       "      <td>пенсионер</td>\n",
       "      <td>0</td>\n",
       "      <td>56823.777243</td>\n",
       "      <td>на покупку подержанного автомобиля</td>\n",
       "    </tr>\n",
       "    <tr>\n",
       "      <th>19</th>\n",
       "      <td>0</td>\n",
       "      <td>-10038.818549</td>\n",
       "      <td>48</td>\n",
       "      <td>СРЕДНЕЕ</td>\n",
       "      <td>1</td>\n",
       "      <td>в разводе</td>\n",
       "      <td>3</td>\n",
       "      <td>F</td>\n",
       "      <td>сотрудник</td>\n",
       "      <td>0</td>\n",
       "      <td>242831.107982</td>\n",
       "      <td>на покупку своего автомобиля</td>\n",
       "    </tr>\n",
       "  </tbody>\n",
       "</table>\n",
       "</div>"
      ],
      "text/plain": [
       "    children  days_employed  dob_years            education  education_id  \\\n",
       "0          1   -8437.673028         42               высшее             0   \n",
       "1          1   -4024.803754         36              среднее             1   \n",
       "2          0   -5623.422610         33              Среднее             1   \n",
       "3          3   -4124.747207         32              среднее             1   \n",
       "4          0  340266.072047         53              среднее             1   \n",
       "5          0    -926.185831         27               высшее             0   \n",
       "6          0   -2879.202052         43               высшее             0   \n",
       "7          0    -152.779569         50              СРЕДНЕЕ             1   \n",
       "8          2   -6929.865299         35               ВЫСШЕЕ             0   \n",
       "9          0   -2188.756445         41              среднее             1   \n",
       "10         2   -4171.483647         36               высшее             0   \n",
       "11         0    -792.701887         40              среднее             1   \n",
       "12         0            NaN         65              среднее             1   \n",
       "13         0   -1846.641941         54  неоконченное высшее             2   \n",
       "14         0   -1844.956182         56               высшее             0   \n",
       "15         1    -972.364419         26              среднее             1   \n",
       "16         0   -1719.934226         35              среднее             1   \n",
       "17         0   -2369.999720         33               высшее             0   \n",
       "18         0  400281.136913         53              среднее             1   \n",
       "19         0  -10038.818549         48              СРЕДНЕЕ             1   \n",
       "\n",
       "       family_status  family_status_id gender income_type  debt  \\\n",
       "0    женат / замужем                 0      F   сотрудник     0   \n",
       "1    женат / замужем                 0      F   сотрудник     0   \n",
       "2    женат / замужем                 0      M   сотрудник     0   \n",
       "3    женат / замужем                 0      M   сотрудник     0   \n",
       "4   гражданский брак                 1      F   пенсионер     0   \n",
       "5   гражданский брак                 1      M   компаньон     0   \n",
       "6    женат / замужем                 0      F   компаньон     0   \n",
       "7    женат / замужем                 0      M   сотрудник     0   \n",
       "8   гражданский брак                 1      F   сотрудник     0   \n",
       "9    женат / замужем                 0      M   сотрудник     0   \n",
       "10   женат / замужем                 0      M   компаньон     0   \n",
       "11   женат / замужем                 0      F   сотрудник     0   \n",
       "12  гражданский брак                 1      M   пенсионер     0   \n",
       "13   женат / замужем                 0      F   сотрудник     0   \n",
       "14  гражданский брак                 1      F   компаньон     1   \n",
       "15   женат / замужем                 0      F   сотрудник     0   \n",
       "16   женат / замужем                 0      F   сотрудник     0   \n",
       "17  гражданский брак                 1      M   сотрудник     0   \n",
       "18    вдовец / вдова                 2      F   пенсионер     0   \n",
       "19         в разводе                 3      F   сотрудник     0   \n",
       "\n",
       "     total_income                                 purpose  \n",
       "0   253875.639453                           покупка жилья  \n",
       "1   112080.014102                 приобретение автомобиля  \n",
       "2   145885.952297                           покупка жилья  \n",
       "3   267628.550329              дополнительное образование  \n",
       "4   158616.077870                         сыграть свадьбу  \n",
       "5   255763.565419                           покупка жилья  \n",
       "6   240525.971920                       операции с жильем  \n",
       "7   135823.934197                             образование  \n",
       "8    95856.832424                   на проведение свадьбы  \n",
       "9   144425.938277                 покупка жилья для семьи  \n",
       "10  113943.491460                    покупка недвижимости  \n",
       "11   77069.234271       покупка коммерческой недвижимости  \n",
       "12            NaN                         сыграть свадьбу  \n",
       "13  130458.228857                 приобретение автомобиля  \n",
       "14  165127.911772              покупка жилой недвижимости  \n",
       "15  116820.904450  строительство собственной недвижимости  \n",
       "16  289202.704229                            недвижимость  \n",
       "17   90410.586745              строительство недвижимости  \n",
       "18   56823.777243      на покупку подержанного автомобиля  \n",
       "19  242831.107982            на покупку своего автомобиля  "
      ]
     },
     "execution_count": 2,
     "metadata": {},
     "output_type": "execute_result"
    }
   ],
   "source": [
    "data.head(20)"
   ]
  },
  {
   "cell_type": "markdown",
   "id": "39b0092c",
   "metadata": {
    "deletable": false,
    "editable": false,
    "id": "1c12e233"
   },
   "source": [
    "**Задание 3. Выведите основную информацию о датафрейме с помощью метода `info()`.**"
   ]
  },
  {
   "cell_type": "code",
   "execution_count": 3,
   "id": "d1153e29",
   "metadata": {
    "deletable": false,
    "id": "2b757bca",
    "outputId": "15376089-8dad-46c9-b520-c05248d43158"
   },
   "outputs": [
    {
     "name": "stdout",
     "output_type": "stream",
     "text": [
      "<class 'pandas.core.frame.DataFrame'>\n",
      "RangeIndex: 21525 entries, 0 to 21524\n",
      "Data columns (total 12 columns):\n",
      " #   Column            Non-Null Count  Dtype  \n",
      "---  ------            --------------  -----  \n",
      " 0   children          21525 non-null  int64  \n",
      " 1   days_employed     19351 non-null  float64\n",
      " 2   dob_years         21525 non-null  int64  \n",
      " 3   education         21525 non-null  object \n",
      " 4   education_id      21525 non-null  int64  \n",
      " 5   family_status     21525 non-null  object \n",
      " 6   family_status_id  21525 non-null  int64  \n",
      " 7   gender            21525 non-null  object \n",
      " 8   income_type       21525 non-null  object \n",
      " 9   debt              21525 non-null  int64  \n",
      " 10  total_income      19351 non-null  float64\n",
      " 11  purpose           21525 non-null  object \n",
      "dtypes: float64(2), int64(5), object(5)\n",
      "memory usage: 2.0+ MB\n"
     ]
    }
   ],
   "source": [
    "data.info()"
   ]
  },
  {
   "cell_type": "markdown",
   "id": "76acef95",
   "metadata": {
    "deletable": false,
    "editable": false,
    "id": "333ec665"
   },
   "source": [
    "## Предобработка данных"
   ]
  },
  {
   "cell_type": "markdown",
   "id": "1fbd7f25",
   "metadata": {
    "deletable": false,
    "editable": false,
    "id": "02d92d53"
   },
   "source": [
    "### Удаление пропусков"
   ]
  },
  {
   "cell_type": "markdown",
   "id": "c026cdb0",
   "metadata": {
    "deletable": false,
    "editable": false,
    "id": "cd84967c"
   },
   "source": [
    "**Задание 4. Выведите количество пропущенных значений для каждого столбца. Используйте комбинацию двух методов.**"
   ]
  },
  {
   "cell_type": "code",
   "execution_count": 4,
   "id": "568709c1",
   "metadata": {
    "deletable": false,
    "id": "7f9b2309",
    "outputId": "81f4d817-781c-465c-ed15-91ce4446810d"
   },
   "outputs": [
    {
     "data": {
      "text/plain": [
       "children               0\n",
       "days_employed       2174\n",
       "dob_years              0\n",
       "education              0\n",
       "education_id           0\n",
       "family_status          0\n",
       "family_status_id       0\n",
       "gender                 0\n",
       "income_type            0\n",
       "debt                   0\n",
       "total_income        2174\n",
       "purpose                0\n",
       "dtype: int64"
      ]
     },
     "execution_count": 4,
     "metadata": {},
     "output_type": "execute_result"
    }
   ],
   "source": [
    "data.isna().sum()"
   ]
  },
  {
   "cell_type": "markdown",
   "id": "6d1ba43f",
   "metadata": {
    "deletable": false,
    "editable": false,
    "id": "db86e27b"
   },
   "source": [
    "**Задание 5. В двух столбцах есть пропущенные значения. Один из них — `days_employed`. Пропуски в этом столбце вы обработаете на следующем этапе. Другой столбец с пропущенными значениями — `total_income` — хранит данные о доходах. На сумму дохода сильнее всего влияет тип занятости, поэтому заполнить пропуски в этом столбце нужно медианным значением по каждому типу из столбца `income_type`. Например, у человека с типом занятости `сотрудник` пропуск в столбце `total_income` должен быть заполнен медианным доходом среди всех записей с тем же типом.**"
   ]
  },
  {
   "cell_type": "code",
   "execution_count": 5,
   "id": "795ca022",
   "metadata": {
    "deletable": false,
    "id": "42006a93"
   },
   "outputs": [],
   "source": [
    "for t in data['income_type'].unique():\n",
    "    data.loc[(data['income_type'] == t) & (data['total_income'].isna()), 'total_income'] = \\\n",
    "    data.loc[(data['income_type'] == t), 'total_income'].median()"
   ]
  },
  {
   "cell_type": "markdown",
   "id": "e7e1905a",
   "metadata": {
    "deletable": false,
    "editable": false,
    "id": "89da5ece"
   },
   "source": [
    "### Обработка аномальных значений"
   ]
  },
  {
   "cell_type": "markdown",
   "id": "37387136",
   "metadata": {
    "deletable": false,
    "editable": false,
    "id": "57964554"
   },
   "source": [
    "**Задание 6. В данных могут встречаться артефакты (аномалии) — значения, которые не отражают действительность и появились по какой-то ошибке. таким артефактом будет отрицательное количество дней трудового стажа в столбце `days_employed`. Для реальных данных это нормально. Обработайте значения в этом столбце: замените все отрицательные значения положительными с помощью метода `abs()`.**"
   ]
  },
  {
   "cell_type": "code",
   "execution_count": 6,
   "id": "23f0d36f",
   "metadata": {
    "deletable": false,
    "id": "f6f055bf"
   },
   "outputs": [],
   "source": [
    "data['days_employed'] = data['days_employed'].abs()"
   ]
  },
  {
   "cell_type": "markdown",
   "id": "e6e7d68e",
   "metadata": {
    "deletable": false,
    "editable": false,
    "id": "6107dd2f"
   },
   "source": [
    "**Задание 7. Для каждого типа занятости выведите медианное значение трудового стажа `days_employed` в днях.**"
   ]
  },
  {
   "cell_type": "code",
   "execution_count": 7,
   "id": "541dd755",
   "metadata": {
    "deletable": false,
    "id": "85a5faf6",
    "outputId": "801ef80e-522b-4668-f34e-565af7432bcf"
   },
   "outputs": [
    {
     "data": {
      "text/plain": [
       "income_type\n",
       "безработный        366413.652744\n",
       "в декрете            3296.759962\n",
       "госслужащий          2689.368353\n",
       "компаньон            1547.382223\n",
       "пенсионер          365213.306266\n",
       "предприниматель       520.848083\n",
       "сотрудник            1574.202821\n",
       "студент               578.751554\n",
       "Name: days_employed, dtype: float64"
      ]
     },
     "execution_count": 7,
     "metadata": {},
     "output_type": "execute_result"
    }
   ],
   "source": [
    "data.groupby('income_type')['days_employed'].agg('median')"
   ]
  },
  {
   "cell_type": "markdown",
   "id": "d3956023",
   "metadata": {
    "deletable": false,
    "editable": false,
    "id": "38d1a030"
   },
   "source": [
    "У двух типов (безработные и пенсионеры) получатся аномально большие значения. Исправить такие значения сложно, поэтому оставьте их как есть. Тем более этот столбец не понадобится вам для исследования."
   ]
  },
  {
   "cell_type": "markdown",
   "id": "152b5f53",
   "metadata": {
    "deletable": false,
    "editable": false,
    "id": "d8a9f147"
   },
   "source": [
    "**Задание 8. Выведите перечень уникальных значений столбца `children`.**"
   ]
  },
  {
   "cell_type": "code",
   "execution_count": 8,
   "id": "08b38838",
   "metadata": {
    "deletable": false,
    "id": "ef5056eb",
    "outputId": "6975b15c-7f95-4697-d16d-a0c79b657b03"
   },
   "outputs": [
    {
     "data": {
      "text/plain": [
       "array([ 1,  0,  3,  2, -1,  4, 20,  5])"
      ]
     },
     "execution_count": 8,
     "metadata": {},
     "output_type": "execute_result"
    }
   ],
   "source": [
    "data['children'].unique()"
   ]
  },
  {
   "cell_type": "markdown",
   "id": "c40dd5d1",
   "metadata": {
    "deletable": false,
    "editable": false,
    "id": "40b9ebf2"
   },
   "source": [
    "**Задание 9. В столбце `children` есть два аномальных значения. Удалите строки, в которых встречаются такие аномальные значения из датафрейма `data`.**"
   ]
  },
  {
   "cell_type": "code",
   "execution_count": 9,
   "id": "49c09adb",
   "metadata": {
    "deletable": false,
    "id": "3ff9801d"
   },
   "outputs": [],
   "source": [
    "data = data[(data['children'] != -1) & (data['children'] != 20)]"
   ]
  },
  {
   "cell_type": "markdown",
   "id": "a34b3d3e",
   "metadata": {
    "deletable": false,
    "editable": false,
    "id": "bbc4d0ce"
   },
   "source": [
    "**Задание 10. Ещё раз выведите перечень уникальных значений столбца `children`, чтобы убедиться, что артефакты удалены.**"
   ]
  },
  {
   "cell_type": "code",
   "execution_count": 10,
   "id": "8e1f2839",
   "metadata": {
    "deletable": false,
    "id": "ad4fa8b7",
    "outputId": "b2097101-d49d-44d9-901b-32a65c9463d1"
   },
   "outputs": [
    {
     "data": {
      "text/plain": [
       "array([1, 0, 3, 2, 4, 5])"
      ]
     },
     "execution_count": 10,
     "metadata": {},
     "output_type": "execute_result"
    }
   ],
   "source": [
    "data['children'].unique()"
   ]
  },
  {
   "cell_type": "markdown",
   "id": "684e98fe",
   "metadata": {
    "deletable": false,
    "editable": false,
    "id": "75440b63"
   },
   "source": [
    "### Удаление пропусков (продолжение)"
   ]
  },
  {
   "cell_type": "markdown",
   "id": "745c0160",
   "metadata": {
    "deletable": false,
    "editable": false,
    "id": "f4ea573f"
   },
   "source": [
    "**Задание 11. Заполните пропуски в столбце `days_employed` медианными значениями по каждого типа занятости `income_type`.**"
   ]
  },
  {
   "cell_type": "code",
   "execution_count": 11,
   "id": "9d420c1b",
   "metadata": {
    "deletable": false,
    "id": "af6b1a7e"
   },
   "outputs": [],
   "source": [
    "for t in data['income_type'].unique():\n",
    "    data.loc[(data['income_type'] == t) & (data['days_employed'].isna()), 'days_employed'] = \\\n",
    "    data.loc[(data['income_type'] == t), 'days_employed'].median()"
   ]
  },
  {
   "cell_type": "markdown",
   "id": "e6e00ed7",
   "metadata": {
    "deletable": false,
    "editable": false,
    "id": "2753f40d"
   },
   "source": [
    "**Задание 12. Убедитесь, что все пропуски заполнены. Проверьте себя и ещё раз выведите количество пропущенных значений для каждого столбца с помощью двух методов.**"
   ]
  },
  {
   "cell_type": "code",
   "execution_count": 12,
   "id": "0db0c3a0",
   "metadata": {
    "deletable": false,
    "id": "55f78bc2",
    "outputId": "8da1e4e1-358e-4e87-98c9-f261bce0a7b2"
   },
   "outputs": [
    {
     "data": {
      "text/plain": [
       "children            0\n",
       "days_employed       0\n",
       "dob_years           0\n",
       "education           0\n",
       "education_id        0\n",
       "family_status       0\n",
       "family_status_id    0\n",
       "gender              0\n",
       "income_type         0\n",
       "debt                0\n",
       "total_income        0\n",
       "purpose             0\n",
       "dtype: int64"
      ]
     },
     "execution_count": 12,
     "metadata": {},
     "output_type": "execute_result"
    }
   ],
   "source": [
    "data.isna().sum()"
   ]
  },
  {
   "cell_type": "markdown",
   "id": "f4d9ac5c",
   "metadata": {
    "deletable": false,
    "editable": false,
    "id": "ddc81e43"
   },
   "source": [
    "### Изменение типов данных"
   ]
  },
  {
   "cell_type": "markdown",
   "id": "6c2e785a",
   "metadata": {
    "deletable": false,
    "editable": false,
    "id": "42d19d24"
   },
   "source": [
    "**Задание 13. Замените вещественный тип данных в столбце `total_income` на целочисленный с помощью метода `astype()`.**"
   ]
  },
  {
   "cell_type": "code",
   "execution_count": 13,
   "id": "e5d6cdec",
   "metadata": {
    "deletable": false,
    "id": "920b65ad"
   },
   "outputs": [],
   "source": [
    "data['total_income'] = data['total_income'].astype(int)"
   ]
  },
  {
   "cell_type": "markdown",
   "id": "8d798a15",
   "metadata": {
    "deletable": false,
    "editable": false,
    "id": "80c420ba"
   },
   "source": [
    "### Обработка дубликатов"
   ]
  },
  {
   "cell_type": "markdown",
   "id": "f57f4c30",
   "metadata": {
    "deletable": false,
    "editable": false
   },
   "source": [
    "**Задание 14. Обработайте неявные дубликаты в столбце `education`. В этом столбце есть одни и те же значения, но записанные по-разному: с использованием заглавных и строчных букв. Приведите их к нижнему регистру. Проверьте остальные столбцы.**"
   ]
  },
  {
   "cell_type": "code",
   "execution_count": 14,
   "id": "63a750bd",
   "metadata": {
    "deletable": false
   },
   "outputs": [],
   "source": [
    "data['education'] = data['education'].str.lower()"
   ]
  },
  {
   "cell_type": "markdown",
   "id": "065427e6",
   "metadata": {
    "deletable": false,
    "editable": false,
    "id": "dc587695"
   },
   "source": [
    "**Задание 15. Выведите на экран количество строк-дубликатов в данных. Если такие строки присутствуют, удалите их.**"
   ]
  },
  {
   "cell_type": "code",
   "execution_count": 15,
   "id": "27e8199f",
   "metadata": {
    "deletable": false,
    "id": "3ee445e4",
    "outputId": "9684deba-1934-42d1-99e1-cda61740f822"
   },
   "outputs": [
    {
     "data": {
      "text/plain": [
       "71"
      ]
     },
     "execution_count": 15,
     "metadata": {},
     "output_type": "execute_result"
    }
   ],
   "source": [
    "data.duplicated().sum()"
   ]
  },
  {
   "cell_type": "code",
   "execution_count": 16,
   "id": "d04c9903",
   "metadata": {
    "deletable": false,
    "id": "8575fe05"
   },
   "outputs": [],
   "source": [
    "data = data.drop_duplicates()"
   ]
  },
  {
   "cell_type": "markdown",
   "id": "fe966a49",
   "metadata": {
    "deletable": false,
    "editable": false,
    "id": "9904cf55"
   },
   "source": [
    "### Категоризация данных"
   ]
  },
  {
   "cell_type": "markdown",
   "id": "c651bd71",
   "metadata": {
    "deletable": false,
    "editable": false,
    "id": "72fcc8a2"
   },
   "source": [
    "**Задание 16. На основании диапазонов, указанных ниже, создайте в датафрейме `data` столбец `total_income_category` с категориями:**\n",
    "\n",
    "- 0–30000 — `'E'`;\n",
    "- 30001–50000 — `'D'`;\n",
    "- 50001–200000 — `'C'`;\n",
    "- 200001–1000000 — `'B'`;\n",
    "- 1000001 и выше — `'A'`.\n",
    "\n",
    "\n",
    "**Например, кредитополучателю с доходом 25000 нужно назначить категорию `'E'`, а клиенту, получающему 235000, — `'B'`. Используйте собственную функцию с именем `categorize_income()` и метод `apply()`.**"
   ]
  },
  {
   "cell_type": "code",
   "execution_count": 17,
   "id": "18e03be3",
   "metadata": {
    "deletable": false,
    "id": "e1771346"
   },
   "outputs": [],
   "source": [
    "def categorize_income(income):\n",
    "    try:\n",
    "        if 0 <= income <= 30000:\n",
    "            return 'E'\n",
    "        elif 30001 <= income <= 50000:\n",
    "            return 'D'\n",
    "        elif 50001 <= income <= 200000:\n",
    "            return 'C'\n",
    "        elif 200001 <= income <= 1000000:\n",
    "            return 'B'\n",
    "        elif income >= 1000001:\n",
    "            return 'A'\n",
    "    except:\n",
    "        pass"
   ]
  },
  {
   "cell_type": "code",
   "execution_count": 18,
   "id": "dc3074e1",
   "metadata": {
    "deletable": false,
    "id": "d5f3586d"
   },
   "outputs": [],
   "source": [
    "data['total_income_category'] = data['total_income'].apply(categorize_income)"
   ]
  },
  {
   "cell_type": "markdown",
   "id": "203cbc0b",
   "metadata": {
    "deletable": false,
    "editable": false,
    "id": "dde49b5c"
   },
   "source": [
    "**Задание 17. Выведите на экран перечень уникальных целей взятия кредита из столбца `purpose`.**"
   ]
  },
  {
   "cell_type": "code",
   "execution_count": 19,
   "id": "1ea96f41",
   "metadata": {
    "deletable": false,
    "id": "f67ce9b3",
    "outputId": "673c12d9-7d7e-4ae0-9812-c622c89dd244"
   },
   "outputs": [
    {
     "data": {
      "text/plain": [
       "array(['покупка жилья', 'приобретение автомобиля',\n",
       "       'дополнительное образование', 'сыграть свадьбу',\n",
       "       'операции с жильем', 'образование', 'на проведение свадьбы',\n",
       "       'покупка жилья для семьи', 'покупка недвижимости',\n",
       "       'покупка коммерческой недвижимости', 'покупка жилой недвижимости',\n",
       "       'строительство собственной недвижимости', 'недвижимость',\n",
       "       'строительство недвижимости', 'на покупку подержанного автомобиля',\n",
       "       'на покупку своего автомобиля',\n",
       "       'операции с коммерческой недвижимостью',\n",
       "       'строительство жилой недвижимости', 'жилье',\n",
       "       'операции со своей недвижимостью', 'автомобили',\n",
       "       'заняться образованием', 'сделка с подержанным автомобилем',\n",
       "       'получение образования', 'автомобиль', 'свадьба',\n",
       "       'получение дополнительного образования', 'покупка своего жилья',\n",
       "       'операции с недвижимостью', 'получение высшего образования',\n",
       "       'свой автомобиль', 'сделка с автомобилем',\n",
       "       'профильное образование', 'высшее образование',\n",
       "       'покупка жилья для сдачи', 'на покупку автомобиля', 'ремонт жилью',\n",
       "       'заняться высшим образованием'], dtype=object)"
      ]
     },
     "execution_count": 19,
     "metadata": {},
     "output_type": "execute_result"
    }
   ],
   "source": [
    "data['purpose'].unique()"
   ]
  },
  {
   "cell_type": "markdown",
   "id": "d1020b9d",
   "metadata": {
    "deletable": false,
    "editable": false,
    "id": "85d0aef0"
   },
   "source": [
    "**Задание 18. Создайте функцию, которая на основании данных из столбца `purpose` сформирует новый столбец `purpose_category`, в который войдут следующие категории:**\n",
    "\n",
    "- `'операции с автомобилем'`,\n",
    "- `'операции с недвижимостью'`,\n",
    "- `'проведение свадьбы'`,\n",
    "- `'получение образования'`.\n",
    "\n",
    "**Например, если в столбце `purpose` находится подстрока `'на покупку автомобиля'`, то в столбце `purpose_category` должна появиться строка `'операции с автомобилем'`.**\n",
    "\n",
    "**Используйте собственную функцию с именем `categorize_purpose()` и метод `apply()`. Изучите данные в столбце `purpose` и определите, какие подстроки помогут вам правильно определить категорию.**"
   ]
  },
  {
   "cell_type": "code",
   "execution_count": 20,
   "id": "e84912a5",
   "metadata": {
    "deletable": false,
    "id": "e149fab4"
   },
   "outputs": [],
   "source": [
    "def categorize_purpose(row):\n",
    "    try:\n",
    "        if 'автом' in row:\n",
    "            return 'операции с автомобилем'\n",
    "        elif 'жил' in row or 'недвиж' in row:\n",
    "            return 'операции с недвижимостью'\n",
    "        elif 'свад' in row:\n",
    "            return 'проведение свадьбы'\n",
    "        elif 'образов' in row:\n",
    "            return 'получение образования'\n",
    "    except:\n",
    "        return 'нет категории'"
   ]
  },
  {
   "cell_type": "code",
   "execution_count": 21,
   "id": "1db5dd0a",
   "metadata": {
    "deletable": false,
    "id": "bf36e69b"
   },
   "outputs": [],
   "source": [
    "data['purpose_category'] = data['purpose'].apply(categorize_purpose)"
   ]
  },
  {
   "cell_type": "markdown",
   "id": "983bff46",
   "metadata": {
    "deletable": false,
    "editable": false,
    "id": "09b242bf"
   },
   "source": [
    "### Шаг 3. Исследуйте данные и ответьте на вопросы"
   ]
  },
  {
   "cell_type": "markdown",
   "id": "4a94396e",
   "metadata": {
    "deletable": false,
    "editable": false,
    "id": "c5d66278"
   },
   "source": [
    "#### 3.1 Есть ли зависимость между количеством детей и возвратом кредита в срок?"
   ]
  },
  {
   "cell_type": "code",
   "execution_count": 22,
   "id": "cc77ea29",
   "metadata": {
    "deletable": false,
    "id": "2cacfc4a"
   },
   "outputs": [
    {
     "name": "stdout",
     "output_type": "stream",
     "text": [
      "            count                relation %,repayment_of_the_total\n",
      "debt            0       1    All                                  \n",
      "children                                                          \n",
      "0         13028.0  1063.0  14091     12.3                    92.46\n",
      "1          4364.0   444.0   4808      9.8                    90.77\n",
      "2          1858.0   194.0   2052      9.6                    90.55\n",
      "3           303.0    27.0    330     11.2                    91.82\n",
      "4            37.0     4.0     41      9.2                    90.24\n",
      "5             9.0     NaN      9      NaN                   100.00\n",
      "All       19599.0  1732.0  21331     11.3                    91.88\n"
     ]
    }
   ],
   "source": [
    "children_debt_pivot = pd.pivot_table(data,index = 'children', columns = 'debt',values ='purpose_category', aggfunc = ['count'], margins = True)\n",
    "children_debt_pivot['relation'] = round(children_debt_pivot[('count', 0)]/children_debt_pivot[('count', 1)],1)\n",
    "children_debt_pivot['%,repayment_of_the_total'] = round((children_debt_pivot[('count', 0)]/ children_debt_pivot[('count', 'All')])*100, 2)\n",
    "print(children_debt_pivot)# Ваш код будет здесь. Вы можете создавать новые ячейки."
   ]
  },
  {
   "cell_type": "markdown",
   "id": "1c59c6c8",
   "metadata": {
    "deletable": false,
    "id": "3a6b99ec"
   },
   "source": [
    "**Вывод:** Создала два столбца к сводной таблице. Первый столбец **['relation']**, показывает во сколько раз количество непросроченных кредитов больше количества просроченных. Второй столбец **['%,repayment_of_the_total']** показывает долю непросроченного кредита от общего числа в каждой группе. Исходя из результатов можно сделать вывод, что наименьший показатель невозвратов по кредиту приходится на людей, ***не имеющих детей***. Выборку с 5ю детьми мы не рассматриваем, так как не хватает данных по столбцу с просроченным кредитом. В целом, увеличение количества детей существенно не меняет показатели возврата кредита в срок."
   ]
  },
  {
   "cell_type": "markdown",
   "id": "0dd653bd",
   "metadata": {},
   "source": [
    "\n",
    "<div class=\"alert alert-success\">\n",
    "<b>Комментарий ревьюера:</b>☀️Согласна абсолютно!</div>"
   ]
  },
  {
   "cell_type": "markdown",
   "id": "e2029453",
   "metadata": {
    "deletable": false,
    "editable": false,
    "id": "97be82ca"
   },
   "source": [
    "#### 3.2 Есть ли зависимость между семейным положением и возвратом кредита в срок?"
   ]
  },
  {
   "cell_type": "code",
   "execution_count": 23,
   "id": "46338f84",
   "metadata": {
    "deletable": false,
    "id": "dc3f7ee8"
   },
   "outputs": [
    {
     "name": "stdout",
     "output_type": "stream",
     "text": [
      "                       count              relation %,repayment_of_the_total\n",
      "debt                       0     1    All                                  \n",
      "family_status                                                              \n",
      "Не женат / не замужем   2523   273   2796      9.2                    90.24\n",
      "в разводе               1105    84   1189     13.2                    92.94\n",
      "вдовец / вдова           888    63    951     14.1                    93.38\n",
      "гражданский брак        3749   385   4134      9.7                    90.69\n",
      "женат / замужем        11334   927  12261     12.2                    92.44\n",
      "All                    19599  1732  21331     11.3                    91.88\n"
     ]
    }
   ],
   "source": [
    "family_status_debt_pivot = pd.pivot_table(data,index = 'family_status', columns = 'debt',values ='purpose_category', aggfunc = ['count'], margins = True)\n",
    "family_status_debt_pivot['relation'] = round(family_status_debt_pivot[('count', 0)] / family_status_debt_pivot[('count', 1)],1)\n",
    "family_status_debt_pivot['%,repayment_of_the_total'] = round((family_status_debt_pivot[('count', 0)]/ family_status_debt_pivot[('count', 'All')])*100, 2)\n",
    "print(family_status_debt_pivot)# Ваш код будет здесь. Вы можете создавать новые ячейки.# Ваш код будет здесь. Вы можете создавать новые ячейки."
   ]
  },
  {
   "cell_type": "markdown",
   "id": "32681f24",
   "metadata": {
    "deletable": false,
    "id": "1cef7837"
   },
   "source": [
    "**Вывод:** Создала два столбца к сводной таблице. Первый столбец **['relation']**, показывает во сколько раз количество непросроченных кредитов больше количества просроченных по выборкам из семейного статуса. Второй столбец **['%,repayment_of_the_total']** показывает долю непросроченного кредита от общего числа в каждой группе. Исходя из результатов можно сделать вывод, что наименьший показатель невозвратов по кредиту приходится на людей, находящихся в статусе ***вдовец / вдова***. Но выборка по данному статусу значительно меньше остальных выборок, поэтому результат может быть несколько не точным. Наименьшее количество возвратов приходится на находящихся в статусе ***Не женат / не замужем*** и ***гражданский брак***.\n",
    "В целом, можно сделать вывод, что побывавшие непосредственно в зарегистрированном браке, либо находящиеся в нем, увеличивают вероятность возврата кредита в срок."
   ]
  },
  {
   "cell_type": "markdown",
   "id": "840c263a",
   "metadata": {},
   "source": [
    "\n",
    "<div class=\"alert alert-success\">\n",
    "<b>Комментарий ревьюера:</b>☀️Да, это верно) </div>"
   ]
  },
  {
   "cell_type": "markdown",
   "id": "0b68e638",
   "metadata": {
    "deletable": false,
    "editable": false,
    "id": "1e8b2fca"
   },
   "source": [
    "#### 3.3 Есть ли зависимость между уровнем дохода и возвратом кредита в срок?"
   ]
  },
  {
   "cell_type": "code",
   "execution_count": 24,
   "id": "963a4566",
   "metadata": {
    "deletable": false,
    "id": "cd7e3720"
   },
   "outputs": [
    {
     "name": "stdout",
     "output_type": "stream",
     "text": [
      "     total_income_category income_category  count              relation  \\\n",
      "debt                                            0     1    All            \n",
      "0                        A      >= 1000001     23     2     25     11.5   \n",
      "1                        B  200001-1000000   4660   354   5014     13.2   \n",
      "2                        C    50001-200000  14568  1353  15921     10.8   \n",
      "3                        D     30001-50000    328    21    349     15.6   \n",
      "4                        E        <= 30000     20     2     22     10.0   \n",
      "5                      All            None  19599  1732  21331     11.3   \n",
      "\n",
      "     %,repayment_of_the_total  \n",
      "debt                           \n",
      "0                       92.00  \n",
      "1                       92.94  \n",
      "2                       91.50  \n",
      "3                       93.98  \n",
      "4                       90.91  \n",
      "5                       91.88  \n"
     ]
    }
   ],
   "source": [
    "total_income_debt_pivot = pd.pivot_table(data,index = 'total_income_category', columns = 'debt',values ='purpose_category', aggfunc = ['count'], margins = True).reset_index()\n",
    "total_income_debt_pivot['relation'] = round(total_income_debt_pivot[('count', 0)] / total_income_debt_pivot[('count', 1)],1)\n",
    "total_income_debt_pivot['%,repayment_of_the_total'] = round((total_income_debt_pivot[('count', 0)]/ total_income_debt_pivot[('count', 'All')])*100, 2)\n",
    "def categorize(category):\n",
    "    if category=='E' :\n",
    "        return '<= 30000'\n",
    "    elif category == 'D' :\n",
    "        return '30001-50000'\n",
    "    elif category == 'C' :\n",
    "        return '50001-200000'\n",
    "    elif category == 'B':\n",
    "        return '200001-1000000'\n",
    "    elif category == 'A' :\n",
    "        return '>= 1000001'\n",
    "total_income_debt_pivot['income_category'] = total_income_debt_pivot['total_income_category', ''].apply(categorize) \n",
    "total_income_debt_pivot = total_income_debt_pivot.reindex(columns=[('total_income_category',    ''),('income_category',    ''),('count',     0),('count',     1),('count', 'All'),('relation',    ''),('%,repayment_of_the_total',    '')])\n",
    "print(total_income_debt_pivot)# Ваш код будет здесь. Вы можете создавать новые ячейки."
   ]
  },
  {
   "cell_type": "markdown",
   "id": "8fd5a2df",
   "metadata": {
    "deletable": false,
    "id": "e8593def"
   },
   "source": [
    "**Вывод:** При проведенном анализе данных наибольший процент возвратов находится для выборки с заработной платой от **30001 до 50000 рублей**. Что, по сути, является средней зарплатой по стране. Наименьший процент возвратов находится в выборке с зарплатой **менее 30000 рублей**. Сильная корелляция при увеличении заработной платы и возможности возвращать в срок кредит, не проявляется, возможно, потому что и сами кредиты имеют большую сумму, чем нежеле в самой возвратной категории."
   ]
  },
  {
   "cell_type": "markdown",
   "id": "fe5750fa",
   "metadata": {},
   "source": [
    "\n",
    "<div class=\"alert alert-warning\">\n",
    "<b>Комментарий ревьюера:</b>☀️Здесь еще можно обраитить внимание на объемы выборки и заметить, что категории В и С наиболее многочисленны по сравнению с остальными, и посчитать процентаж отдельно для них </div>"
   ]
  },
  {
   "cell_type": "markdown",
   "id": "3aa560ae",
   "metadata": {},
   "source": [
    "<div class=\"alert alert-info\"> Если я правильно поняла, то я должна рассмотреть детальнее категории B и С. Ниже проанализирую выборки по данным категориям. Рассмотрим на какие цели данные категории берут кредит."
   ]
  },
  {
   "cell_type": "code",
   "execution_count": 28,
   "id": "9206d754",
   "metadata": {
    "scrolled": true
   },
   "outputs": [
    {
     "name": "stdout",
     "output_type": "stream",
     "text": [
      "     gender          purpose_category   count              %,repayment_of_the_total\n",
      "debt                                        0      1   All                         \n",
      "8       XNA  операции с недвижимостью     1.0    NaN     1                   100.00\n",
      "3         F        проведение свадьбы   286.0   13.0   299                    95.65\n",
      "1         F  операции с недвижимостью  1294.0   79.0  1373                    94.25\n",
      "7         M        проведение свадьбы   230.0   15.0   245                    93.88\n",
      "2         F     получение образования   451.0   30.0   481                    93.76\n",
      "9       All                            4660.0  354.0  5014                    92.94\n",
      "0         F    операции с автомобилем   502.0   40.0   542                    92.62\n",
      "5         M  операции с недвижимостью  1091.0   93.0  1184                    92.15\n",
      "4         M    операции с автомобилем   435.0   45.0   480                    90.62\n",
      "6         M     получение образования   370.0   39.0   409                    90.46\n"
     ]
    }
   ],
   "source": [
    "pd.options.display.expand_frame_repr = False\n",
    "B_debt = data.loc[data['total_income_category'] == 'B']\n",
    "B_debt_pivot = pd.pivot_table(B_debt,index = ['gender','purpose_category'], columns = ['debt'],values ='total_income', \\\n",
    "                                         aggfunc = ['count'], margins = True).reset_index()\n",
    "\n",
    "B_debt_pivot['%,repayment_of_the_total'] = round((B_debt_pivot[('count', 0)] / B_debt_pivot[('count', 'All')])*100, 2)\n",
    "print(B_debt_pivot.sort_values(by =[('%,repayment_of_the_total', '')], ascending = False))"
   ]
  },
  {
   "cell_type": "markdown",
   "id": "0c0735cd",
   "metadata": {},
   "source": [
    "<div class=\"alert alert-info\"> \n",
    "    Проведя исследование по категории дохода (В) от 200001 до 1000000 рублей в разрезе пола и целей взятия кредита, исходя из процетных данных столбца [%,repayment_of_the_total], можно сделать вывод, что самой возвращаемой категорией будут женщины, берущие кредит на проведение свадьбы (значение с неверным гендером в расчет не берем, на выборку в целом влияния иметь не будет)"
   ]
  },
  {
   "cell_type": "code",
   "execution_count": 31,
   "id": "9b818611",
   "metadata": {},
   "outputs": [
    {
     "name": "stdout",
     "output_type": "stream",
     "text": [
      "     gender          purpose_category  count              %,repayment_of_the_total\n",
      "debt                                       0     1    All                         \n",
      "1         F  операции с недвижимостью   5151   359   5510                    93.48\n",
      "3         F        проведение свадьбы   1132    92   1224                    92.48\n",
      "0         F    операции с автомобилем   2048   184   2232                    91.76\n",
      "2         F     получение образования   1922   175   2097                    91.65\n",
      "8       All                            14568  1353  15921                    91.50\n",
      "5         M  операции с недвижимостью   2247   240   2487                    90.35\n",
      "7         M        проведение свадьбы    445    60    505                    88.12\n",
      "4         M    операции с автомобилем    828   121    949                    87.25\n",
      "6         M     получение образования    795   122    917                    86.70\n"
     ]
    }
   ],
   "source": [
    "pd.options.display.expand_frame_repr = False\n",
    "C_debt = data.loc[data['total_income_category'] == 'C']\n",
    "C_debt_pivot = pd.pivot_table(C_debt,index = ['gender','purpose_category'], columns = ['debt'],values ='total_income', \\\n",
    "                                         aggfunc = ['count'], margins = True).reset_index()\n",
    "\n",
    "C_debt_pivot['%,repayment_of_the_total'] = round((C_debt_pivot[('count', 0)] / C_debt_pivot[('count', 'All')])*100, 2)\n",
    "print(C_debt_pivot.sort_values(by =[('%,repayment_of_the_total', '')], ascending = False))"
   ]
  },
  {
   "cell_type": "markdown",
   "id": "55573211",
   "metadata": {},
   "source": [
    "<div class=\"alert alert-info\"> \n",
    "    Проведя исследование по категории дохода (С) от 50001 до 200000 рублей в разрезе пола и целей взятия кредита, исходя из процетных данных столбца [%,repayment_of_the_total], можно сделать вывод, что самой возвращаемой категорией будут женщины, берущие кредит на операции с недвижимостью. Самой менее возвращаемой категорией будут мужчины, берущие кредит на получение образования. Также можно сделать вывод, что женщины по категории дохода С значительно чаще брали кредит, чем мужчины и значительно лучше его возврщали."
   ]
  },
  {
   "cell_type": "markdown",
   "id": "9e1dd545",
   "metadata": {},
   "source": [
    "\n",
    "<div class=\"alert alert-success\">\n",
    "<b>Комментарий ревьюера v2.0:</b>☀️Да, все верно ! Молодец :)</div>"
   ]
  },
  {
   "cell_type": "markdown",
   "id": "06885c16",
   "metadata": {
    "deletable": false,
    "editable": false,
    "id": "99ecbd1f"
   },
   "source": [
    "#### 3.4 Как разные цели кредита влияют на его возврат в срок?"
   ]
  },
  {
   "cell_type": "code",
   "execution_count": 26,
   "id": "a1a3c674",
   "metadata": {
    "deletable": false,
    "id": "2b687290"
   },
   "outputs": [
    {
     "name": "stdout",
     "output_type": "stream",
     "text": [
      "              purpose_category  count              relation  \\\n",
      "debt                                0     1    All            \n",
      "0       операции с автомобилем   3879   400   4279      9.7   \n",
      "1     операции с недвижимостью   9971   780  10751     12.8   \n",
      "2        получение образования   3619   369   3988      9.8   \n",
      "3           проведение свадьбы   2130   183   2313     11.6   \n",
      "4                          All  19599  1732  21331     11.3   \n",
      "\n",
      "     %,repayment_of_the_total  \n",
      "debt                           \n",
      "0                       90.65  \n",
      "1                       92.74  \n",
      "2                       90.75  \n",
      "3                       92.09  \n",
      "4                       91.88  \n"
     ]
    }
   ],
   "source": [
    "purpose_debt_pivot = pd.pivot_table(data,index = 'purpose_category', columns = 'debt',values ='purpose', aggfunc = ['count'], margins = True).reset_index()\n",
    "purpose_debt_pivot['relation'] = round(purpose_debt_pivot[('count', 0)] / purpose_debt_pivot[('count', 1)],1)\n",
    "purpose_debt_pivot['%,repayment_of_the_total'] = round((purpose_debt_pivot[('count', 0)]/ purpose_debt_pivot[('count', 'All')])*100, 2)\n",
    "print(purpose_debt_pivot)# Ваш код будет здесь. Вы можете создавать новые ячейки.# Ваш код будет здесь. Вы можете создавать новые ячейки."
   ]
  },
  {
   "cell_type": "markdown",
   "id": "1e8b13e1",
   "metadata": {
    "deletable": false,
    "id": "b4bb2ce6"
   },
   "source": [
    "**Вывод:** Исходя из полученных данных можно сделать вывод, что наименьший процент по возвратам находится в выборке ***операции с автомобилем***, так же выборка ***для получения образования*** показывает меньший процент возвратов, чем в других выборках. Наиболее возвращаемой выборкой по цели является: ***операции с недвижимостью***"
   ]
  },
  {
   "cell_type": "markdown",
   "id": "719c97fa",
   "metadata": {},
   "source": [
    "\n",
    "<div class=\"alert alert-success\">\n",
    "<b>Комментарий ревьюера:</b>☀️Все правильно!\n",
    "</div>"
   ]
  },
  {
   "cell_type": "markdown",
   "id": "e7070b33",
   "metadata": {
    "deletable": false,
    "editable": false,
    "id": "09c3ac4c"
   },
   "source": [
    "#### 3.5 Приведите возможные причины появления пропусков в исходных данных."
   ]
  },
  {
   "cell_type": "markdown",
   "id": "590da8c8",
   "metadata": {
    "deletable": false,
    "id": "9da2ceda"
   },
   "source": [
    "*Ответ:* Пропуски могут иметь технический характер, то есть могут быть ошибки при выгрузки данных. Либо пропуски могут быть из-за \"человеческого фактора\", к примеру операторы, заполняющие информацию, по каким-то причинам ошиблись и не заполнили ячейки ."
   ]
  },
  {
   "cell_type": "markdown",
   "id": "b0c71b20",
   "metadata": {},
   "source": [
    "\n",
    "<div class=\"alert alert-success\">\n",
    "<b>Комментарий ревьюера:</b>☀️И здесь тоже исчерпывающе верный ответ) </div>"
   ]
  },
  {
   "cell_type": "markdown",
   "id": "723edfd6",
   "metadata": {
    "deletable": false,
    "editable": false,
    "id": "7b0487d6"
   },
   "source": [
    "#### 3.6 Объясните, почему заполнить пропуски медианным значением — лучшее решение для количественных переменных."
   ]
  },
  {
   "cell_type": "markdown",
   "id": "2aa4dc37",
   "metadata": {
    "deletable": false,
    "id": "7ecf2b8e"
   },
   "source": [
    "*Ответ:* Заполнение пропусков ***медианным значением*** в значительно большей степени позволяет сгладить большой разброс в количественных данных, чем нежеле *среднее арифметическое*. Среднее арифметическое тянет всю выборку вверх при высокой разнице между минимальным и максимальным значением выборки."
   ]
  },
  {
   "cell_type": "markdown",
   "id": "b99efcd0",
   "metadata": {},
   "source": [
    "\n",
    "<div class=\"alert alert-success\">\n",
    "<b>Комментарий ревьюера:</b>☀️Да, медиана наиболее устойчива к выбросам</div>"
   ]
  },
  {
   "cell_type": "markdown",
   "id": "751cc669",
   "metadata": {
    "deletable": false,
    "editable": false,
    "id": "6db5255a"
   },
   "source": [
    "### Шаг 4: общий вывод."
   ]
  },
  {
   "cell_type": "markdown",
   "id": "7c13226e",
   "metadata": {
    "deletable": false,
    "id": "bad65432"
   },
   "source": [
    "После проведенного выше анализа, можно сделать следующие выводы:\n",
    "* Наиболее кредитоплатежным среди выборки наличия/отсутствия детей, является человек без детей.\n",
    "* Наиболее кредитоплатежным среди выборки по семейному положению, является вдовец/вдова\n",
    "* Наиболее кредитоплатежным среди выборки по уровню дохода, является человек с доходом от 300001 до 50000 рублей\n",
    "* Наиболее кредитоплатежным среди выборки по цели кредита, является человек, берущий кредит для операций с недвижимостью."
   ]
  },
  {
   "cell_type": "markdown",
   "id": "09bf1796",
   "metadata": {},
   "source": [
    "\n",
    "<div class=\"alert alert-success\">\n",
    "<b>Комментарий ревьюера:</b>☀️Марина, спасибо тебе за твой проект! Все супер, пожалуйста, ознакомься с моими комментариями и оставь свои :)</div>"
   ]
  },
  {
   "cell_type": "markdown",
   "id": "40e6ace5",
   "metadata": {},
   "source": [
    "\n",
    "<div class=\"alert alert-success\">\n",
    "<b>Комментарий ревьюера v2.0:</b>☀️Успехов на поприще аналитики ;) </div>"
   ]
  }
 ],
 "metadata": {
  "ExecuteTimeLog": [
   {
    "duration": 51,
    "start_time": "2023-01-27T15:06:18.577Z"
   },
   {
    "duration": 7,
    "start_time": "2023-01-27T15:06:33.263Z"
   },
   {
    "duration": 591,
    "start_time": "2023-01-27T15:06:46.480Z"
   },
   {
    "duration": 25,
    "start_time": "2023-01-27T15:06:47.073Z"
   },
   {
    "duration": 17,
    "start_time": "2023-01-27T15:06:47.100Z"
   },
   {
    "duration": 12,
    "start_time": "2023-01-27T15:06:47.120Z"
   },
   {
    "duration": 67,
    "start_time": "2023-01-27T15:06:47.133Z"
   },
   {
    "duration": 4,
    "start_time": "2023-01-27T15:06:47.202Z"
   },
   {
    "duration": 43,
    "start_time": "2023-01-27T15:06:47.209Z"
   },
   {
    "duration": 17,
    "start_time": "2023-01-27T15:06:47.254Z"
   },
   {
    "duration": 47,
    "start_time": "2023-01-27T15:06:47.273Z"
   },
   {
    "duration": 13,
    "start_time": "2023-01-27T15:06:47.323Z"
   },
   {
    "duration": 125,
    "start_time": "2023-01-27T15:06:47.338Z"
   },
   {
    "duration": 17,
    "start_time": "2023-01-27T15:06:47.465Z"
   },
   {
    "duration": 19,
    "start_time": "2023-01-27T15:06:47.484Z"
   },
   {
    "duration": 78,
    "start_time": "2023-01-27T15:06:47.505Z"
   },
   {
    "duration": 59,
    "start_time": "2023-01-27T15:06:47.585Z"
   },
   {
    "duration": 20,
    "start_time": "2023-01-27T15:06:47.646Z"
   },
   {
    "duration": 15,
    "start_time": "2023-01-27T15:06:47.668Z"
   },
   {
    "duration": 27,
    "start_time": "2023-01-27T15:06:47.684Z"
   },
   {
    "duration": 42,
    "start_time": "2023-01-27T15:06:47.713Z"
   },
   {
    "duration": 28,
    "start_time": "2023-01-27T15:06:47.756Z"
   },
   {
    "duration": 28,
    "start_time": "2023-01-27T15:06:47.786Z"
   },
   {
    "duration": 49,
    "start_time": "2023-01-27T15:06:47.816Z"
   },
   {
    "duration": 15,
    "start_time": "2023-01-27T15:06:47.867Z"
   },
   {
    "duration": 28,
    "start_time": "2023-01-27T15:06:47.884Z"
   },
   {
    "duration": 14,
    "start_time": "2023-01-27T15:06:47.914Z"
   },
   {
    "duration": 73,
    "start_time": "2023-01-27T15:13:44.126Z"
   },
   {
    "duration": 4,
    "start_time": "2023-01-27T15:13:49.983Z"
   },
   {
    "duration": 4,
    "start_time": "2023-01-27T15:14:17.219Z"
   },
   {
    "duration": 6,
    "start_time": "2023-01-27T15:14:31.398Z"
   },
   {
    "duration": 570,
    "start_time": "2023-01-27T15:21:19.682Z"
   },
   {
    "duration": 24,
    "start_time": "2023-01-27T15:21:20.254Z"
   },
   {
    "duration": 38,
    "start_time": "2023-01-27T15:21:20.281Z"
   },
   {
    "duration": 28,
    "start_time": "2023-01-27T15:21:20.322Z"
   },
   {
    "duration": 65,
    "start_time": "2023-01-27T15:21:20.352Z"
   },
   {
    "duration": 20,
    "start_time": "2023-01-27T15:21:20.419Z"
   },
   {
    "duration": 54,
    "start_time": "2023-01-27T15:21:20.441Z"
   },
   {
    "duration": 49,
    "start_time": "2023-01-27T15:21:20.497Z"
   },
   {
    "duration": 74,
    "start_time": "2023-01-27T15:21:20.548Z"
   },
   {
    "duration": 53,
    "start_time": "2023-01-27T15:21:20.628Z"
   },
   {
    "duration": 89,
    "start_time": "2023-01-27T15:21:20.683Z"
   },
   {
    "duration": 11,
    "start_time": "2023-01-27T15:21:20.774Z"
   },
   {
    "duration": 30,
    "start_time": "2023-01-27T15:21:20.786Z"
   },
   {
    "duration": 51,
    "start_time": "2023-01-27T15:21:20.819Z"
   },
   {
    "duration": 80,
    "start_time": "2023-01-27T15:21:20.872Z"
   },
   {
    "duration": 37,
    "start_time": "2023-01-27T15:21:20.954Z"
   },
   {
    "duration": 15,
    "start_time": "2023-01-27T15:21:20.993Z"
   },
   {
    "duration": 66,
    "start_time": "2023-01-27T15:21:21.010Z"
   },
   {
    "duration": 43,
    "start_time": "2023-01-27T15:21:21.079Z"
   },
   {
    "duration": 24,
    "start_time": "2023-01-27T15:21:21.124Z"
   },
   {
    "duration": 59,
    "start_time": "2023-01-27T15:21:21.151Z"
   },
   {
    "duration": 163,
    "start_time": "2023-01-27T15:21:21.213Z"
   },
   {
    "duration": 0,
    "start_time": "2023-01-27T15:21:21.384Z"
   },
   {
    "duration": 0,
    "start_time": "2023-01-27T15:21:21.386Z"
   },
   {
    "duration": 0,
    "start_time": "2023-01-27T15:21:21.387Z"
   },
   {
    "duration": 11,
    "start_time": "2023-01-27T15:21:57.043Z"
   },
   {
    "duration": 20,
    "start_time": "2023-01-27T15:29:29.289Z"
   },
   {
    "duration": 17,
    "start_time": "2023-01-27T15:29:44.230Z"
   },
   {
    "duration": 17,
    "start_time": "2023-01-27T15:30:41.314Z"
   },
   {
    "duration": 30,
    "start_time": "2023-01-27T15:34:27.089Z"
   },
   {
    "duration": 38,
    "start_time": "2023-01-27T15:36:19.466Z"
   },
   {
    "duration": 41,
    "start_time": "2023-01-27T15:38:44.156Z"
   },
   {
    "duration": 14,
    "start_time": "2023-01-27T15:42:35.682Z"
   },
   {
    "duration": 7,
    "start_time": "2023-01-27T15:43:11.266Z"
   },
   {
    "duration": 4,
    "start_time": "2023-01-27T15:43:28.515Z"
   },
   {
    "duration": 7,
    "start_time": "2023-01-27T15:43:47.014Z"
   },
   {
    "duration": 6,
    "start_time": "2023-01-27T15:44:11.355Z"
   },
   {
    "duration": 96,
    "start_time": "2023-01-27T15:48:56.583Z"
   },
   {
    "duration": 21,
    "start_time": "2023-01-27T15:49:02.359Z"
   },
   {
    "duration": 47,
    "start_time": "2023-01-27T15:49:58.971Z"
   },
   {
    "duration": 8,
    "start_time": "2023-01-27T15:52:10.867Z"
   },
   {
    "duration": 5,
    "start_time": "2023-01-27T15:52:26.017Z"
   },
   {
    "duration": 16,
    "start_time": "2023-01-27T16:20:22.211Z"
   },
   {
    "duration": 26,
    "start_time": "2023-01-27T16:23:16.101Z"
   },
   {
    "duration": 26,
    "start_time": "2023-01-27T16:23:25.984Z"
   },
   {
    "duration": 36,
    "start_time": "2023-01-27T16:24:06.118Z"
   },
   {
    "duration": 17,
    "start_time": "2023-01-27T16:24:37.924Z"
   },
   {
    "duration": 16,
    "start_time": "2023-01-27T16:24:48.184Z"
   },
   {
    "duration": 38,
    "start_time": "2023-01-27T16:25:10.110Z"
   },
   {
    "duration": 12,
    "start_time": "2023-01-27T16:25:50.866Z"
   },
   {
    "duration": 13,
    "start_time": "2023-01-27T16:26:05.629Z"
   },
   {
    "duration": 6,
    "start_time": "2023-01-27T16:26:11.539Z"
   },
   {
    "duration": 7,
    "start_time": "2023-01-27T16:26:44.952Z"
   },
   {
    "duration": 7,
    "start_time": "2023-01-27T16:27:23.000Z"
   },
   {
    "duration": 9,
    "start_time": "2023-01-27T16:31:27.954Z"
   },
   {
    "duration": 11,
    "start_time": "2023-01-27T16:31:38.769Z"
   },
   {
    "duration": 16,
    "start_time": "2023-01-27T16:32:13.278Z"
   },
   {
    "duration": 49,
    "start_time": "2023-01-27T16:33:56.491Z"
   },
   {
    "duration": 20,
    "start_time": "2023-01-27T16:39:41.894Z"
   },
   {
    "duration": 107,
    "start_time": "2023-01-27T16:42:01.585Z"
   },
   {
    "duration": 36,
    "start_time": "2023-01-27T16:42:40.052Z"
   },
   {
    "duration": 10,
    "start_time": "2023-01-27T16:43:25.492Z"
   },
   {
    "duration": 71,
    "start_time": "2023-01-27T16:43:52.468Z"
   },
   {
    "duration": 76,
    "start_time": "2023-01-27T16:44:17.879Z"
   },
   {
    "duration": 74,
    "start_time": "2023-01-27T16:44:31.370Z"
   },
   {
    "duration": 24,
    "start_time": "2023-01-27T17:20:00.783Z"
   },
   {
    "duration": 13,
    "start_time": "2023-01-27T17:20:32.829Z"
   },
   {
    "duration": 37,
    "start_time": "2023-01-27T17:20:47.797Z"
   },
   {
    "duration": 38,
    "start_time": "2023-01-27T17:21:14.864Z"
   },
   {
    "duration": 11,
    "start_time": "2023-01-27T17:22:05.690Z"
   },
   {
    "duration": 42,
    "start_time": "2023-01-27T17:22:28.374Z"
   },
   {
    "duration": 16,
    "start_time": "2023-01-27T17:25:31.371Z"
   },
   {
    "duration": 17,
    "start_time": "2023-01-27T17:25:36.385Z"
   },
   {
    "duration": 10,
    "start_time": "2023-01-27T17:25:50.090Z"
   },
   {
    "duration": 21,
    "start_time": "2023-01-27T17:53:15.131Z"
   },
   {
    "duration": 14,
    "start_time": "2023-01-27T17:58:03.778Z"
   },
   {
    "duration": 21,
    "start_time": "2023-01-27T17:58:13.783Z"
   },
   {
    "duration": 8,
    "start_time": "2023-01-27T17:59:31.082Z"
   },
   {
    "duration": 8,
    "start_time": "2023-01-27T17:59:42.594Z"
   },
   {
    "duration": 18,
    "start_time": "2023-01-27T17:59:50.034Z"
   },
   {
    "duration": 12,
    "start_time": "2023-01-27T18:03:21.107Z"
   },
   {
    "duration": 22,
    "start_time": "2023-01-27T18:05:26.528Z"
   },
   {
    "duration": 17,
    "start_time": "2023-01-27T18:05:57.922Z"
   },
   {
    "duration": 901,
    "start_time": "2023-01-27T18:09:01.970Z"
   },
   {
    "duration": 1165,
    "start_time": "2023-01-27T18:09:52.866Z"
   },
   {
    "duration": 18,
    "start_time": "2023-01-27T18:13:48.646Z"
   },
   {
    "duration": 20,
    "start_time": "2023-01-27T18:14:09.888Z"
   },
   {
    "duration": 17,
    "start_time": "2023-01-27T18:14:21.360Z"
   },
   {
    "duration": 20,
    "start_time": "2023-01-27T18:15:06.998Z"
   },
   {
    "duration": 20,
    "start_time": "2023-01-27T18:18:06.175Z"
   },
   {
    "duration": 21,
    "start_time": "2023-01-27T18:28:21.187Z"
   },
   {
    "duration": 20,
    "start_time": "2023-01-27T18:28:36.301Z"
   },
   {
    "duration": 593,
    "start_time": "2023-01-28T07:42:43.656Z"
   },
   {
    "duration": 29,
    "start_time": "2023-01-28T07:42:44.251Z"
   },
   {
    "duration": 35,
    "start_time": "2023-01-28T07:42:44.282Z"
   },
   {
    "duration": 50,
    "start_time": "2023-01-28T07:42:44.320Z"
   },
   {
    "duration": 62,
    "start_time": "2023-01-28T07:42:44.372Z"
   },
   {
    "duration": 14,
    "start_time": "2023-01-28T07:42:44.435Z"
   },
   {
    "duration": 51,
    "start_time": "2023-01-28T07:42:44.450Z"
   },
   {
    "duration": 41,
    "start_time": "2023-01-28T07:42:44.503Z"
   },
   {
    "duration": 31,
    "start_time": "2023-01-28T07:42:44.545Z"
   },
   {
    "duration": 51,
    "start_time": "2023-01-28T07:42:44.580Z"
   },
   {
    "duration": 101,
    "start_time": "2023-01-28T07:42:44.633Z"
   },
   {
    "duration": 17,
    "start_time": "2023-01-28T07:42:44.736Z"
   },
   {
    "duration": 52,
    "start_time": "2023-01-28T07:42:44.755Z"
   },
   {
    "duration": 54,
    "start_time": "2023-01-28T07:42:44.809Z"
   },
   {
    "duration": 46,
    "start_time": "2023-01-28T07:42:44.865Z"
   },
   {
    "duration": 48,
    "start_time": "2023-01-28T07:42:44.913Z"
   },
   {
    "duration": 19,
    "start_time": "2023-01-28T07:42:44.964Z"
   },
   {
    "duration": 60,
    "start_time": "2023-01-28T07:42:44.985Z"
   },
   {
    "duration": 39,
    "start_time": "2023-01-28T07:42:45.048Z"
   },
   {
    "duration": 42,
    "start_time": "2023-01-28T07:42:45.089Z"
   },
   {
    "duration": 96,
    "start_time": "2023-01-28T07:42:45.134Z"
   },
   {
    "duration": 64,
    "start_time": "2023-01-28T07:42:45.232Z"
   },
   {
    "duration": 20,
    "start_time": "2023-01-28T07:42:45.298Z"
   },
   {
    "duration": 44,
    "start_time": "2023-01-28T07:42:45.320Z"
   },
   {
    "duration": 33,
    "start_time": "2023-01-28T07:42:45.366Z"
   },
   {
    "duration": 24,
    "start_time": "2023-01-28T07:49:46.956Z"
   },
   {
    "duration": 37,
    "start_time": "2023-01-28T07:50:43.512Z"
   },
   {
    "duration": 40,
    "start_time": "2023-01-28T07:52:00.334Z"
   },
   {
    "duration": 46,
    "start_time": "2023-01-28T07:57:40.100Z"
   },
   {
    "duration": 74,
    "start_time": "2023-01-28T07:59:26.965Z"
   },
   {
    "duration": 88,
    "start_time": "2023-01-28T07:59:43.440Z"
   },
   {
    "duration": 106,
    "start_time": "2023-01-28T08:00:20.563Z"
   },
   {
    "duration": 50,
    "start_time": "2023-01-28T08:00:30.368Z"
   },
   {
    "duration": 46,
    "start_time": "2023-01-28T08:00:40.729Z"
   },
   {
    "duration": 48,
    "start_time": "2023-01-28T08:01:13.656Z"
   },
   {
    "duration": 505,
    "start_time": "2023-01-28T08:02:38.991Z"
   },
   {
    "duration": 23,
    "start_time": "2023-01-28T08:02:39.498Z"
   },
   {
    "duration": 26,
    "start_time": "2023-01-28T08:02:39.523Z"
   },
   {
    "duration": 12,
    "start_time": "2023-01-28T08:02:39.551Z"
   },
   {
    "duration": 38,
    "start_time": "2023-01-28T08:02:39.565Z"
   },
   {
    "duration": 3,
    "start_time": "2023-01-28T08:02:39.606Z"
   },
   {
    "duration": 38,
    "start_time": "2023-01-28T08:02:39.611Z"
   },
   {
    "duration": 6,
    "start_time": "2023-01-28T08:02:39.651Z"
   },
   {
    "duration": 8,
    "start_time": "2023-01-28T08:02:39.659Z"
   },
   {
    "duration": 6,
    "start_time": "2023-01-28T08:02:39.671Z"
   },
   {
    "duration": 72,
    "start_time": "2023-01-28T08:02:39.679Z"
   },
   {
    "duration": 12,
    "start_time": "2023-01-28T08:02:39.753Z"
   },
   {
    "duration": 5,
    "start_time": "2023-01-28T08:02:39.766Z"
   },
   {
    "duration": 16,
    "start_time": "2023-01-28T08:02:39.772Z"
   },
   {
    "duration": 22,
    "start_time": "2023-01-28T08:02:39.790Z"
   },
   {
    "duration": 43,
    "start_time": "2023-01-28T08:02:39.813Z"
   },
   {
    "duration": 4,
    "start_time": "2023-01-28T08:02:39.857Z"
   },
   {
    "duration": 18,
    "start_time": "2023-01-28T08:02:39.864Z"
   },
   {
    "duration": 8,
    "start_time": "2023-01-28T08:02:39.884Z"
   },
   {
    "duration": 5,
    "start_time": "2023-01-28T08:02:39.894Z"
   },
   {
    "duration": 44,
    "start_time": "2023-01-28T08:02:39.901Z"
   },
   {
    "duration": 28,
    "start_time": "2023-01-28T08:02:39.947Z"
   },
   {
    "duration": 63,
    "start_time": "2023-01-28T08:02:39.977Z"
   },
   {
    "duration": 22,
    "start_time": "2023-01-28T08:02:40.042Z"
   },
   {
    "duration": 2,
    "start_time": "2023-01-28T08:02:40.066Z"
   },
   {
    "duration": 76,
    "start_time": "2023-01-28T08:03:21.471Z"
   },
   {
    "duration": 46,
    "start_time": "2023-01-28T08:03:26.129Z"
   },
   {
    "duration": 58,
    "start_time": "2023-01-28T08:03:45.733Z"
   },
   {
    "duration": 47,
    "start_time": "2023-01-28T08:09:17.663Z"
   },
   {
    "duration": 48,
    "start_time": "2023-01-28T08:09:32.377Z"
   },
   {
    "duration": 52,
    "start_time": "2023-01-28T08:10:04.531Z"
   },
   {
    "duration": 477,
    "start_time": "2023-01-28T08:11:50.782Z"
   },
   {
    "duration": 31,
    "start_time": "2023-01-28T08:11:51.261Z"
   },
   {
    "duration": 19,
    "start_time": "2023-01-28T08:11:51.294Z"
   },
   {
    "duration": 29,
    "start_time": "2023-01-28T08:11:51.316Z"
   },
   {
    "duration": 43,
    "start_time": "2023-01-28T08:11:51.347Z"
   },
   {
    "duration": 5,
    "start_time": "2023-01-28T08:11:51.392Z"
   },
   {
    "duration": 16,
    "start_time": "2023-01-28T08:11:51.398Z"
   },
   {
    "duration": 24,
    "start_time": "2023-01-28T08:11:51.416Z"
   },
   {
    "duration": 22,
    "start_time": "2023-01-28T08:11:51.442Z"
   },
   {
    "duration": 11,
    "start_time": "2023-01-28T08:11:51.466Z"
   },
   {
    "duration": 42,
    "start_time": "2023-01-28T08:11:51.479Z"
   },
   {
    "duration": 18,
    "start_time": "2023-01-28T08:11:51.523Z"
   },
   {
    "duration": 3,
    "start_time": "2023-01-28T08:11:51.543Z"
   },
   {
    "duration": 11,
    "start_time": "2023-01-28T08:11:51.549Z"
   },
   {
    "duration": 20,
    "start_time": "2023-01-28T08:11:51.562Z"
   },
   {
    "duration": 18,
    "start_time": "2023-01-28T08:11:51.584Z"
   },
   {
    "duration": 4,
    "start_time": "2023-01-28T08:11:51.604Z"
   },
   {
    "duration": 36,
    "start_time": "2023-01-28T08:11:51.609Z"
   },
   {
    "duration": 13,
    "start_time": "2023-01-28T08:11:51.647Z"
   },
   {
    "duration": 8,
    "start_time": "2023-01-28T08:11:51.661Z"
   },
   {
    "duration": 17,
    "start_time": "2023-01-28T08:11:51.671Z"
   },
   {
    "duration": 73,
    "start_time": "2023-01-28T08:11:51.689Z"
   },
   {
    "duration": 46,
    "start_time": "2023-01-28T08:11:51.764Z"
   },
   {
    "duration": 39,
    "start_time": "2023-01-28T08:11:51.812Z"
   },
   {
    "duration": 2,
    "start_time": "2023-01-28T08:11:51.853Z"
   },
   {
    "duration": 18,
    "start_time": "2023-01-28T08:53:17.133Z"
   },
   {
    "duration": 43,
    "start_time": "2023-01-28T08:54:55.837Z"
   },
   {
    "duration": 1861,
    "start_time": "2023-01-28T08:55:23.034Z"
   },
   {
    "duration": 18,
    "start_time": "2023-01-28T08:56:21.136Z"
   },
   {
    "duration": 20,
    "start_time": "2023-01-28T08:57:14.007Z"
   },
   {
    "duration": 42,
    "start_time": "2023-01-28T08:57:55.978Z"
   },
   {
    "duration": 74,
    "start_time": "2023-01-28T09:51:11.757Z"
   },
   {
    "duration": 92,
    "start_time": "2023-01-28T09:51:51.720Z"
   },
   {
    "duration": 6,
    "start_time": "2023-01-28T09:51:56.596Z"
   },
   {
    "duration": 80,
    "start_time": "2023-01-28T09:55:05.187Z"
   },
   {
    "duration": 87,
    "start_time": "2023-01-28T10:42:57.879Z"
   },
   {
    "duration": 59,
    "start_time": "2023-01-28T10:43:51.893Z"
   },
   {
    "duration": 70,
    "start_time": "2023-01-28T10:44:48.842Z"
   },
   {
    "duration": 48,
    "start_time": "2023-01-28T10:45:54.238Z"
   },
   {
    "duration": 4,
    "start_time": "2023-01-28T10:46:59.904Z"
   },
   {
    "duration": 46,
    "start_time": "2023-01-28T10:47:06.439Z"
   },
   {
    "duration": 51,
    "start_time": "2023-01-28T10:47:13.332Z"
   },
   {
    "duration": 46,
    "start_time": "2023-01-28T10:51:53.057Z"
   },
   {
    "duration": 47,
    "start_time": "2023-01-28T10:52:04.350Z"
   },
   {
    "duration": 55,
    "start_time": "2023-01-28T10:52:08.376Z"
   },
   {
    "duration": 760,
    "start_time": "2023-01-28T12:58:15.865Z"
   },
   {
    "duration": 22,
    "start_time": "2023-01-28T12:58:16.627Z"
   },
   {
    "duration": 15,
    "start_time": "2023-01-28T12:58:16.651Z"
   },
   {
    "duration": 9,
    "start_time": "2023-01-28T12:58:16.668Z"
   },
   {
    "duration": 40,
    "start_time": "2023-01-28T12:58:16.678Z"
   },
   {
    "duration": 3,
    "start_time": "2023-01-28T12:58:16.720Z"
   },
   {
    "duration": 13,
    "start_time": "2023-01-28T12:58:16.724Z"
   },
   {
    "duration": 11,
    "start_time": "2023-01-28T12:58:16.738Z"
   },
   {
    "duration": 10,
    "start_time": "2023-01-28T12:58:16.750Z"
   },
   {
    "duration": 4,
    "start_time": "2023-01-28T12:58:16.762Z"
   },
   {
    "duration": 56,
    "start_time": "2023-01-28T12:58:16.768Z"
   },
   {
    "duration": 9,
    "start_time": "2023-01-28T12:58:16.825Z"
   },
   {
    "duration": 5,
    "start_time": "2023-01-28T12:58:16.836Z"
   },
   {
    "duration": 18,
    "start_time": "2023-01-28T12:58:16.843Z"
   },
   {
    "duration": 37,
    "start_time": "2023-01-28T12:58:16.863Z"
   },
   {
    "duration": 17,
    "start_time": "2023-01-28T12:58:16.901Z"
   },
   {
    "duration": 4,
    "start_time": "2023-01-28T12:58:16.920Z"
   },
   {
    "duration": 12,
    "start_time": "2023-01-28T12:58:16.925Z"
   },
   {
    "duration": 6,
    "start_time": "2023-01-28T12:58:16.939Z"
   },
   {
    "duration": 4,
    "start_time": "2023-01-28T12:58:16.946Z"
   },
   {
    "duration": 18,
    "start_time": "2023-01-28T12:58:16.951Z"
   },
   {
    "duration": 70,
    "start_time": "2023-01-28T12:58:16.970Z"
   },
   {
    "duration": 53,
    "start_time": "2023-01-28T12:58:17.041Z"
   },
   {
    "duration": 114,
    "start_time": "2023-01-28T12:58:17.097Z"
   },
   {
    "duration": 0,
    "start_time": "2023-01-28T12:58:17.213Z"
   },
   {
    "duration": 47,
    "start_time": "2023-01-28T13:03:09.603Z"
   },
   {
    "duration": 51,
    "start_time": "2023-01-28T13:03:54.354Z"
   },
   {
    "duration": 45,
    "start_time": "2023-01-28T13:06:44.017Z"
   },
   {
    "duration": 240,
    "start_time": "2023-01-28T13:08:10.586Z"
   },
   {
    "duration": 288,
    "start_time": "2023-01-28T13:08:56.715Z"
   },
   {
    "duration": 43,
    "start_time": "2023-01-28T14:07:32.039Z"
   },
   {
    "duration": 48,
    "start_time": "2023-01-28T14:10:15.245Z"
   },
   {
    "duration": 45,
    "start_time": "2023-01-28T14:10:24.296Z"
   },
   {
    "duration": 736,
    "start_time": "2023-01-28T14:24:54.610Z"
   },
   {
    "duration": 22,
    "start_time": "2023-01-28T14:24:55.348Z"
   },
   {
    "duration": 19,
    "start_time": "2023-01-28T14:24:55.372Z"
   },
   {
    "duration": 9,
    "start_time": "2023-01-28T14:24:55.394Z"
   },
   {
    "duration": 60,
    "start_time": "2023-01-28T14:24:55.405Z"
   },
   {
    "duration": 4,
    "start_time": "2023-01-28T14:24:55.466Z"
   },
   {
    "duration": 19,
    "start_time": "2023-01-28T14:24:55.471Z"
   },
   {
    "duration": 5,
    "start_time": "2023-01-28T14:24:55.492Z"
   },
   {
    "duration": 7,
    "start_time": "2023-01-28T14:24:55.498Z"
   },
   {
    "duration": 4,
    "start_time": "2023-01-28T14:24:55.508Z"
   },
   {
    "duration": 60,
    "start_time": "2023-01-28T14:24:55.513Z"
   },
   {
    "duration": 10,
    "start_time": "2023-01-28T14:24:55.575Z"
   },
   {
    "duration": 19,
    "start_time": "2023-01-28T14:24:55.586Z"
   },
   {
    "duration": 15,
    "start_time": "2023-01-28T14:24:55.607Z"
   },
   {
    "duration": 36,
    "start_time": "2023-01-28T14:24:55.624Z"
   },
   {
    "duration": 20,
    "start_time": "2023-01-28T14:24:55.661Z"
   },
   {
    "duration": 4,
    "start_time": "2023-01-28T14:24:55.683Z"
   },
   {
    "duration": 19,
    "start_time": "2023-01-28T14:24:55.688Z"
   },
   {
    "duration": 13,
    "start_time": "2023-01-28T14:24:55.709Z"
   },
   {
    "duration": 3,
    "start_time": "2023-01-28T14:24:55.723Z"
   },
   {
    "duration": 21,
    "start_time": "2023-01-28T14:24:55.728Z"
   },
   {
    "duration": 47,
    "start_time": "2023-01-28T14:24:55.750Z"
   },
   {
    "duration": 58,
    "start_time": "2023-01-28T14:24:55.799Z"
   },
   {
    "duration": 51,
    "start_time": "2023-01-28T14:24:55.859Z"
   },
   {
    "duration": 2,
    "start_time": "2023-01-28T14:24:55.912Z"
   },
   {
    "duration": 45,
    "start_time": "2023-01-28T14:25:15.149Z"
   },
   {
    "duration": 454,
    "start_time": "2023-01-28T14:49:40.168Z"
   },
   {
    "duration": 21,
    "start_time": "2023-01-28T14:49:40.625Z"
   },
   {
    "duration": 15,
    "start_time": "2023-01-28T14:49:40.647Z"
   },
   {
    "duration": 10,
    "start_time": "2023-01-28T14:49:40.664Z"
   },
   {
    "duration": 37,
    "start_time": "2023-01-28T14:49:40.677Z"
   },
   {
    "duration": 4,
    "start_time": "2023-01-28T14:49:40.716Z"
   },
   {
    "duration": 34,
    "start_time": "2023-01-28T14:49:40.722Z"
   },
   {
    "duration": 4,
    "start_time": "2023-01-28T14:49:40.758Z"
   },
   {
    "duration": 12,
    "start_time": "2023-01-28T14:49:40.764Z"
   },
   {
    "duration": 9,
    "start_time": "2023-01-28T14:49:40.777Z"
   },
   {
    "duration": 36,
    "start_time": "2023-01-28T14:49:40.788Z"
   },
   {
    "duration": 31,
    "start_time": "2023-01-28T14:49:40.825Z"
   },
   {
    "duration": 5,
    "start_time": "2023-01-28T14:49:40.858Z"
   },
   {
    "duration": 12,
    "start_time": "2023-01-28T14:49:40.865Z"
   },
   {
    "duration": 20,
    "start_time": "2023-01-28T14:49:40.879Z"
   },
   {
    "duration": 49,
    "start_time": "2023-01-28T14:49:40.901Z"
   },
   {
    "duration": 3,
    "start_time": "2023-01-28T14:49:40.951Z"
   },
   {
    "duration": 13,
    "start_time": "2023-01-28T14:49:40.956Z"
   },
   {
    "duration": 14,
    "start_time": "2023-01-28T14:49:40.970Z"
   },
   {
    "duration": 11,
    "start_time": "2023-01-28T14:49:40.985Z"
   },
   {
    "duration": 16,
    "start_time": "2023-01-28T14:49:40.997Z"
   },
   {
    "duration": 64,
    "start_time": "2023-01-28T14:49:41.015Z"
   },
   {
    "duration": 43,
    "start_time": "2023-01-28T14:49:41.081Z"
   },
   {
    "duration": 65,
    "start_time": "2023-01-28T14:49:41.126Z"
   },
   {
    "duration": 57,
    "start_time": "2023-01-28T14:49:41.193Z"
   },
   {
    "duration": 44,
    "start_time": "2023-01-28T15:07:07.460Z"
   },
   {
    "duration": 44,
    "start_time": "2023-01-28T15:07:24.575Z"
   },
   {
    "duration": 45,
    "start_time": "2023-01-28T15:07:44.769Z"
   },
   {
    "duration": 46,
    "start_time": "2023-01-28T15:08:07.266Z"
   },
   {
    "duration": 75,
    "start_time": "2023-01-29T14:48:09.780Z"
   },
   {
    "duration": 55,
    "start_time": "2023-01-29T14:49:15.354Z"
   },
   {
    "duration": 46,
    "start_time": "2023-01-29T14:49:32.030Z"
   },
   {
    "duration": 47,
    "start_time": "2023-01-29T14:50:13.890Z"
   },
   {
    "duration": 58,
    "start_time": "2023-01-29T14:50:18.777Z"
   },
   {
    "duration": 820,
    "start_time": "2023-01-29T14:50:48.426Z"
   },
   {
    "duration": 38,
    "start_time": "2023-01-29T14:50:49.250Z"
   },
   {
    "duration": 16,
    "start_time": "2023-01-29T14:50:49.289Z"
   },
   {
    "duration": 18,
    "start_time": "2023-01-29T14:50:49.308Z"
   },
   {
    "duration": 59,
    "start_time": "2023-01-29T14:50:49.328Z"
   },
   {
    "duration": 3,
    "start_time": "2023-01-29T14:50:49.389Z"
   },
   {
    "duration": 28,
    "start_time": "2023-01-29T14:50:49.394Z"
   },
   {
    "duration": 5,
    "start_time": "2023-01-29T14:50:49.425Z"
   },
   {
    "duration": 25,
    "start_time": "2023-01-29T14:50:49.433Z"
   },
   {
    "duration": 5,
    "start_time": "2023-01-29T14:50:49.462Z"
   },
   {
    "duration": 73,
    "start_time": "2023-01-29T14:50:49.469Z"
   },
   {
    "duration": 16,
    "start_time": "2023-01-29T14:50:49.547Z"
   },
   {
    "duration": 11,
    "start_time": "2023-01-29T14:50:49.565Z"
   },
   {
    "duration": 16,
    "start_time": "2023-01-29T14:50:49.577Z"
   },
   {
    "duration": 39,
    "start_time": "2023-01-29T14:50:49.595Z"
   },
   {
    "duration": 28,
    "start_time": "2023-01-29T14:50:49.636Z"
   },
   {
    "duration": 4,
    "start_time": "2023-01-29T14:50:49.667Z"
   },
   {
    "duration": 12,
    "start_time": "2023-01-29T14:50:49.673Z"
   },
   {
    "duration": 9,
    "start_time": "2023-01-29T14:50:49.687Z"
   },
   {
    "duration": 25,
    "start_time": "2023-01-29T14:50:49.697Z"
   },
   {
    "duration": 18,
    "start_time": "2023-01-29T14:50:49.725Z"
   },
   {
    "duration": 76,
    "start_time": "2023-01-29T14:50:49.745Z"
   },
   {
    "duration": 60,
    "start_time": "2023-01-29T14:50:49.823Z"
   },
   {
    "duration": 89,
    "start_time": "2023-01-29T14:50:49.885Z"
   },
   {
    "duration": 63,
    "start_time": "2023-01-29T14:50:49.976Z"
   },
   {
    "duration": 62,
    "start_time": "2023-01-29T14:50:50.041Z"
   },
   {
    "duration": 60,
    "start_time": "2023-01-29T14:52:26.322Z"
   },
   {
    "duration": 64,
    "start_time": "2023-01-29T14:52:37.332Z"
   },
   {
    "duration": 18,
    "start_time": "2023-01-29T15:20:45.795Z"
   },
   {
    "duration": 8,
    "start_time": "2023-01-29T15:21:41.562Z"
   },
   {
    "duration": 7,
    "start_time": "2023-01-29T15:23:37.186Z"
   },
   {
    "duration": 7,
    "start_time": "2023-01-29T15:23:55.757Z"
   },
   {
    "duration": 10,
    "start_time": "2023-01-29T15:24:03.890Z"
   },
   {
    "duration": 12,
    "start_time": "2023-01-29T15:25:27.816Z"
   },
   {
    "duration": 52,
    "start_time": "2023-01-29T15:35:07.446Z"
   },
   {
    "duration": 49,
    "start_time": "2023-01-29T15:35:21.545Z"
   },
   {
    "duration": 15,
    "start_time": "2023-01-29T15:35:27.277Z"
   },
   {
    "duration": 42,
    "start_time": "2023-01-29T15:38:11.070Z"
   },
   {
    "duration": 522,
    "start_time": "2023-01-29T15:42:54.037Z"
   },
   {
    "duration": 33,
    "start_time": "2023-01-29T15:42:54.561Z"
   },
   {
    "duration": 44,
    "start_time": "2023-01-29T15:42:54.595Z"
   },
   {
    "duration": 13,
    "start_time": "2023-01-29T15:42:54.641Z"
   },
   {
    "duration": 48,
    "start_time": "2023-01-29T15:42:54.657Z"
   },
   {
    "duration": 4,
    "start_time": "2023-01-29T15:42:54.707Z"
   },
   {
    "duration": 29,
    "start_time": "2023-01-29T15:42:54.724Z"
   },
   {
    "duration": 5,
    "start_time": "2023-01-29T15:42:54.756Z"
   },
   {
    "duration": 14,
    "start_time": "2023-01-29T15:42:54.764Z"
   },
   {
    "duration": 11,
    "start_time": "2023-01-29T15:42:54.781Z"
   },
   {
    "duration": 57,
    "start_time": "2023-01-29T15:42:54.795Z"
   },
   {
    "duration": 18,
    "start_time": "2023-01-29T15:42:54.854Z"
   },
   {
    "duration": 8,
    "start_time": "2023-01-29T15:42:54.873Z"
   },
   {
    "duration": 22,
    "start_time": "2023-01-29T15:42:54.885Z"
   },
   {
    "duration": 36,
    "start_time": "2023-01-29T15:42:54.910Z"
   },
   {
    "duration": 19,
    "start_time": "2023-01-29T15:42:54.948Z"
   },
   {
    "duration": 4,
    "start_time": "2023-01-29T15:42:54.968Z"
   },
   {
    "duration": 19,
    "start_time": "2023-01-29T15:42:54.973Z"
   },
   {
    "duration": 32,
    "start_time": "2023-01-29T15:42:54.994Z"
   },
   {
    "duration": 12,
    "start_time": "2023-01-29T15:42:55.027Z"
   },
   {
    "duration": 19,
    "start_time": "2023-01-29T15:42:55.041Z"
   },
   {
    "duration": 76,
    "start_time": "2023-01-29T15:42:55.062Z"
   },
   {
    "duration": 59,
    "start_time": "2023-01-29T15:42:55.140Z"
   },
   {
    "duration": 72,
    "start_time": "2023-01-29T15:42:55.200Z"
   },
   {
    "duration": 70,
    "start_time": "2023-01-29T15:42:55.273Z"
   },
   {
    "duration": 45,
    "start_time": "2023-01-29T15:42:55.345Z"
   },
   {
    "duration": 63,
    "start_time": "2023-01-29T15:43:43.649Z"
   },
   {
    "duration": 44,
    "start_time": "2023-01-29T15:45:02.061Z"
   },
   {
    "duration": 108,
    "start_time": "2023-01-29T15:46:42.271Z"
   },
   {
    "duration": 46,
    "start_time": "2023-01-29T15:46:47.351Z"
   },
   {
    "duration": 58,
    "start_time": "2023-01-29T15:46:54.608Z"
   },
   {
    "duration": 49,
    "start_time": "2023-01-29T15:49:12.669Z"
   },
   {
    "duration": 39,
    "start_time": "2023-01-29T15:49:39.381Z"
   },
   {
    "duration": 52,
    "start_time": "2023-01-29T15:49:46.465Z"
   },
   {
    "duration": 47,
    "start_time": "2023-01-29T15:49:59.542Z"
   },
   {
    "duration": 46,
    "start_time": "2023-01-29T15:50:06.446Z"
   },
   {
    "duration": 45,
    "start_time": "2023-01-29T15:50:46.718Z"
   },
   {
    "duration": 48,
    "start_time": "2023-01-29T15:51:04.140Z"
   },
   {
    "duration": 50,
    "start_time": "2023-01-29T15:51:14.694Z"
   },
   {
    "duration": 753,
    "start_time": "2023-01-29T15:51:21.924Z"
   },
   {
    "duration": 751,
    "start_time": "2023-01-29T15:51:29.472Z"
   },
   {
    "duration": 803,
    "start_time": "2023-01-29T15:51:57.897Z"
   },
   {
    "duration": 45,
    "start_time": "2023-01-29T15:52:13.414Z"
   },
   {
    "duration": 42,
    "start_time": "2023-01-29T15:52:29.855Z"
   },
   {
    "duration": 46,
    "start_time": "2023-01-29T15:52:41.858Z"
   },
   {
    "duration": 43,
    "start_time": "2023-01-29T15:53:09.444Z"
   },
   {
    "duration": 10,
    "start_time": "2023-01-29T15:54:18.925Z"
   },
   {
    "duration": 757,
    "start_time": "2023-01-29T16:00:47.375Z"
   },
   {
    "duration": 46,
    "start_time": "2023-01-29T16:01:20.312Z"
   },
   {
    "duration": 47,
    "start_time": "2023-01-29T16:02:16.448Z"
   },
   {
    "duration": 88,
    "start_time": "2023-01-29T16:02:42.806Z"
   },
   {
    "duration": 49,
    "start_time": "2023-01-29T16:06:31.362Z"
   },
   {
    "duration": 74,
    "start_time": "2023-01-29T16:10:19.659Z"
   },
   {
    "duration": 80,
    "start_time": "2023-01-29T16:10:56.155Z"
   },
   {
    "duration": 91,
    "start_time": "2023-01-29T16:13:04.348Z"
   },
   {
    "duration": 85,
    "start_time": "2023-01-29T16:15:30.468Z"
   },
   {
    "duration": 784,
    "start_time": "2023-01-29T16:15:50.714Z"
   },
   {
    "duration": 762,
    "start_time": "2023-01-29T16:16:02.981Z"
   },
   {
    "duration": 484,
    "start_time": "2023-01-29T16:16:54.941Z"
   },
   {
    "duration": 23,
    "start_time": "2023-01-29T16:16:55.427Z"
   },
   {
    "duration": 17,
    "start_time": "2023-01-29T16:16:55.451Z"
   },
   {
    "duration": 11,
    "start_time": "2023-01-29T16:16:55.470Z"
   },
   {
    "duration": 66,
    "start_time": "2023-01-29T16:16:55.483Z"
   },
   {
    "duration": 5,
    "start_time": "2023-01-29T16:16:55.550Z"
   },
   {
    "duration": 12,
    "start_time": "2023-01-29T16:16:55.557Z"
   },
   {
    "duration": 7,
    "start_time": "2023-01-29T16:16:55.571Z"
   },
   {
    "duration": 9,
    "start_time": "2023-01-29T16:16:55.580Z"
   },
   {
    "duration": 29,
    "start_time": "2023-01-29T16:16:55.592Z"
   },
   {
    "duration": 39,
    "start_time": "2023-01-29T16:16:55.623Z"
   },
   {
    "duration": 13,
    "start_time": "2023-01-29T16:16:55.664Z"
   },
   {
    "duration": 7,
    "start_time": "2023-01-29T16:16:55.679Z"
   },
   {
    "duration": 40,
    "start_time": "2023-01-29T16:16:55.688Z"
   },
   {
    "duration": 22,
    "start_time": "2023-01-29T16:16:55.730Z"
   },
   {
    "duration": 17,
    "start_time": "2023-01-29T16:16:55.754Z"
   },
   {
    "duration": 3,
    "start_time": "2023-01-29T16:16:55.773Z"
   },
   {
    "duration": 13,
    "start_time": "2023-01-29T16:16:55.778Z"
   },
   {
    "duration": 33,
    "start_time": "2023-01-29T16:16:55.793Z"
   },
   {
    "duration": 4,
    "start_time": "2023-01-29T16:16:55.828Z"
   },
   {
    "duration": 18,
    "start_time": "2023-01-29T16:16:55.834Z"
   },
   {
    "duration": 67,
    "start_time": "2023-01-29T16:16:55.854Z"
   },
   {
    "duration": 45,
    "start_time": "2023-01-29T16:16:55.923Z"
   },
   {
    "duration": 62,
    "start_time": "2023-01-29T16:16:55.970Z"
   },
   {
    "duration": 880,
    "start_time": "2023-01-29T16:16:56.034Z"
   },
   {
    "duration": 0,
    "start_time": "2023-01-29T16:16:56.917Z"
   },
   {
    "duration": 0,
    "start_time": "2023-01-29T16:16:56.918Z"
   },
   {
    "duration": 79,
    "start_time": "2023-01-29T16:17:11.308Z"
   },
   {
    "duration": 4,
    "start_time": "2023-01-29T16:19:02.161Z"
   },
   {
    "duration": 76,
    "start_time": "2023-01-29T16:20:07.332Z"
   },
   {
    "duration": 74,
    "start_time": "2023-01-29T16:23:27.390Z"
   },
   {
    "duration": 115,
    "start_time": "2023-01-29T16:24:05.651Z"
   },
   {
    "duration": 525,
    "start_time": "2023-01-29T16:26:05.815Z"
   },
   {
    "duration": 30,
    "start_time": "2023-01-29T16:26:06.343Z"
   },
   {
    "duration": 30,
    "start_time": "2023-01-29T16:26:06.376Z"
   },
   {
    "duration": 16,
    "start_time": "2023-01-29T16:26:06.408Z"
   },
   {
    "duration": 38,
    "start_time": "2023-01-29T16:26:06.426Z"
   },
   {
    "duration": 3,
    "start_time": "2023-01-29T16:26:06.466Z"
   },
   {
    "duration": 14,
    "start_time": "2023-01-29T16:26:06.471Z"
   },
   {
    "duration": 4,
    "start_time": "2023-01-29T16:26:06.487Z"
   },
   {
    "duration": 32,
    "start_time": "2023-01-29T16:26:06.493Z"
   },
   {
    "duration": 5,
    "start_time": "2023-01-29T16:26:06.529Z"
   },
   {
    "duration": 38,
    "start_time": "2023-01-29T16:26:06.536Z"
   },
   {
    "duration": 14,
    "start_time": "2023-01-29T16:26:06.577Z"
   },
   {
    "duration": 28,
    "start_time": "2023-01-29T16:26:06.593Z"
   },
   {
    "duration": 13,
    "start_time": "2023-01-29T16:26:06.623Z"
   },
   {
    "duration": 22,
    "start_time": "2023-01-29T16:26:06.638Z"
   },
   {
    "duration": 19,
    "start_time": "2023-01-29T16:26:06.661Z"
   },
   {
    "duration": 4,
    "start_time": "2023-01-29T16:26:06.682Z"
   },
   {
    "duration": 12,
    "start_time": "2023-01-29T16:26:06.721Z"
   },
   {
    "duration": 11,
    "start_time": "2023-01-29T16:26:06.735Z"
   },
   {
    "duration": 6,
    "start_time": "2023-01-29T16:26:06.748Z"
   },
   {
    "duration": 13,
    "start_time": "2023-01-29T16:26:06.756Z"
   },
   {
    "duration": 73,
    "start_time": "2023-01-29T16:26:06.771Z"
   },
   {
    "duration": 47,
    "start_time": "2023-01-29T16:26:06.846Z"
   },
   {
    "duration": 67,
    "start_time": "2023-01-29T16:26:06.895Z"
   },
   {
    "duration": 118,
    "start_time": "2023-01-29T16:26:06.965Z"
   },
   {
    "duration": 4,
    "start_time": "2023-01-29T16:26:07.084Z"
   },
   {
    "duration": 63,
    "start_time": "2023-01-29T16:26:07.090Z"
   },
   {
    "duration": 124,
    "start_time": "2023-01-29T16:27:23.758Z"
   },
   {
    "duration": 10,
    "start_time": "2023-01-29T16:27:45.114Z"
   },
   {
    "duration": 107,
    "start_time": "2023-01-29T16:28:07.771Z"
   },
   {
    "duration": 48,
    "start_time": "2023-01-29T16:29:00.623Z"
   },
   {
    "duration": 53,
    "start_time": "2023-01-29T16:29:06.935Z"
   },
   {
    "duration": 75,
    "start_time": "2023-01-29T16:31:21.646Z"
   },
   {
    "duration": 87,
    "start_time": "2023-01-29T16:32:45.974Z"
   },
   {
    "duration": 117,
    "start_time": "2023-01-29T16:33:45.834Z"
   },
   {
    "duration": 121,
    "start_time": "2023-01-29T16:38:27.016Z"
   },
   {
    "duration": 478,
    "start_time": "2023-01-29T16:38:52.676Z"
   },
   {
    "duration": 22,
    "start_time": "2023-01-29T16:38:53.156Z"
   },
   {
    "duration": 16,
    "start_time": "2023-01-29T16:38:53.180Z"
   },
   {
    "duration": 24,
    "start_time": "2023-01-29T16:38:53.198Z"
   },
   {
    "duration": 34,
    "start_time": "2023-01-29T16:38:53.224Z"
   },
   {
    "duration": 4,
    "start_time": "2023-01-29T16:38:53.259Z"
   },
   {
    "duration": 12,
    "start_time": "2023-01-29T16:38:53.264Z"
   },
   {
    "duration": 3,
    "start_time": "2023-01-29T16:38:53.278Z"
   },
   {
    "duration": 39,
    "start_time": "2023-01-29T16:38:53.283Z"
   },
   {
    "duration": 5,
    "start_time": "2023-01-29T16:38:53.324Z"
   },
   {
    "duration": 37,
    "start_time": "2023-01-29T16:38:53.331Z"
   },
   {
    "duration": 10,
    "start_time": "2023-01-29T16:38:53.369Z"
   },
   {
    "duration": 5,
    "start_time": "2023-01-29T16:38:53.380Z"
   },
   {
    "duration": 39,
    "start_time": "2023-01-29T16:38:53.387Z"
   },
   {
    "duration": 21,
    "start_time": "2023-01-29T16:38:53.428Z"
   },
   {
    "duration": 18,
    "start_time": "2023-01-29T16:38:53.451Z"
   },
   {
    "duration": 4,
    "start_time": "2023-01-29T16:38:53.470Z"
   },
   {
    "duration": 14,
    "start_time": "2023-01-29T16:38:53.476Z"
   },
   {
    "duration": 31,
    "start_time": "2023-01-29T16:38:53.492Z"
   },
   {
    "duration": 3,
    "start_time": "2023-01-29T16:38:53.525Z"
   },
   {
    "duration": 12,
    "start_time": "2023-01-29T16:38:53.530Z"
   },
   {
    "duration": 53,
    "start_time": "2023-01-29T16:38:53.544Z"
   },
   {
    "duration": 60,
    "start_time": "2023-01-29T16:38:53.599Z"
   },
   {
    "duration": 63,
    "start_time": "2023-01-29T16:38:53.661Z"
   },
   {
    "duration": 121,
    "start_time": "2023-01-29T16:38:53.726Z"
   },
   {
    "duration": 49,
    "start_time": "2023-01-29T16:38:53.849Z"
   },
   {
    "duration": 48,
    "start_time": "2023-01-29T16:40:41.351Z"
   },
   {
    "duration": 73,
    "start_time": "2023-01-29T16:41:10.309Z"
   },
   {
    "duration": 63,
    "start_time": "2023-01-29T16:45:19.274Z"
   },
   {
    "duration": 80,
    "start_time": "2023-01-29T16:45:35.995Z"
   },
   {
    "duration": 49,
    "start_time": "2023-01-29T16:45:58.084Z"
   }
  ],
  "colab": {
   "name": "dpp_template_part2.ipynb",
   "provenance": []
  },
  "kernelspec": {
   "display_name": "Python 3 (ipykernel)",
   "language": "python",
   "name": "python3"
  },
  "language_info": {
   "codemirror_mode": {
    "name": "ipython",
    "version": 3
   },
   "file_extension": ".py",
   "mimetype": "text/x-python",
   "name": "python",
   "nbconvert_exporter": "python",
   "pygments_lexer": "ipython3",
   "version": "3.9.5"
  },
  "toc": {
   "base_numbering": 1,
   "nav_menu": {},
   "number_sections": true,
   "sideBar": true,
   "skip_h1_title": true,
   "title_cell": "Table of Contents",
   "title_sidebar": "Contents",
   "toc_cell": false,
   "toc_position": {},
   "toc_section_display": true,
   "toc_window_display": false
  }
 },
 "nbformat": 4,
 "nbformat_minor": 5
}
